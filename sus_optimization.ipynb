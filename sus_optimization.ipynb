{
 "cells": [
  {
   "cell_type": "code",
   "execution_count": 1,
   "id": "d16207a5-7247-42eb-a576-22ceea8c3903",
   "metadata": {},
   "outputs": [],
   "source": [
    "%matplotlib inline\n",
    "import nibabel as nib\n",
    "import numpy as np\n",
    "from scipy import optimize\n",
    "import matplotlib.pyplot as plt\n",
    "import matplotlib.image as mpimg\n",
    "import subprocess\n",
    "import sys"
   ]
  },
  {
   "cell_type": "code",
   "execution_count": 2,
   "id": "372323c6",
   "metadata": {},
   "outputs": [],
   "source": [
    "#import sys\n",
    "#sys.path.append('/Users/evaalonsoortiz/Documents/python/susceptibility-to-fieldmap-fft/')\n",
    "#from functions import compute_fieldmap"
   ]
  },
  {
   "cell_type": "code",
   "execution_count": 2,
   "id": "bd209421",
   "metadata": {},
   "outputs": [],
   "source": [
    "# Select the path to the folder so that it can always address data folder correctly\n",
    "home_path = \"C:/Users/User/msc_project/sus-optimization\""
   ]
  },
  {
   "cell_type": "markdown",
   "id": "cf6067ad",
   "metadata": {},
   "source": [
    "### Hash where I had the fft bug aka template FM HZ created from: \n",
    "*d9f785b082fb145d547ff03ae53f23f1564ccc38*888"
   ]
  },
  {
   "cell_type": "code",
   "execution_count": 3,
   "id": "2569c5f9",
   "metadata": {},
   "outputs": [
    {
     "name": "stdout",
     "output_type": "stream",
     "text": [
      "c:\\Users\\User\\msc_project\\sus-optimization\\susceptibility-to-fieldmap-fft\n"
     ]
    },
    {
     "name": "stderr",
     "output_type": "stream",
     "text": [
      "Cloning into 'susceptibility-to-fieldmap-fft'...\n",
      "c:\\Users\\User\\miniconda3\\envs\\mrsim\\Lib\\site-packages\\IPython\\core\\magics\\osm.py:417: UserWarning: This is now an optional IPython functionality, setting dhist requires you to install the `pickleshare` library.\n",
      "  self.shell.db['dhist'] = compress_dhist(dhist)[-100:]\n"
     ]
    },
    {
     "name": "stdout",
     "output_type": "stream",
     "text": [
      "Already up to date.\n",
      "branch 'mb/custom_pad' set up to track 'origin/mb/custom_pad'.\n"
     ]
    },
    {
     "name": "stderr",
     "output_type": "stream",
     "text": [
      "Switched to a new branch 'mb/custom_pad'\n",
      "Note: switching to 'd9f785b082fb145d547ff03ae53f23f1564ccc38'.\n",
      "\n",
      "You are in 'detached HEAD' state. You can look around, make experimental\n",
      "changes and commit them, and you can discard any commits you make in this\n",
      "state without impacting any branches by switching back to a branch.\n",
      "\n",
      "If you want to create a new branch to retain commits you create, you may\n",
      "do so (now or later) by using -c with the switch command. Example:\n",
      "\n",
      "  git switch -c <new-branch-name>\n",
      "\n",
      "Or undo this operation with:\n",
      "\n",
      "  git switch -\n",
      "\n",
      "Turn off this advice by setting config variable advice.detachedHead to false\n",
      "\n",
      "HEAD is now at d9f785b Fix bug\n"
     ]
    },
    {
     "name": "stdout",
     "output_type": "stream",
     "text": [
      "Processing c:\\users\\user\\msc_project\\sus-optimization\\susceptibility-to-fieldmap-fft\n",
      "  Preparing metadata (setup.py): started\n",
      "  Preparing metadata (setup.py): finished with status 'done'\n",
      "Requirement already satisfied: click in c:\\users\\user\\miniconda3\\envs\\mrsim\\lib\\site-packages (from susceptibility-to-fieldmap-fft==0.0.0) (8.1.7)\n",
      "Requirement already satisfied: numpy>=1.24.4 in c:\\users\\user\\miniconda3\\envs\\mrsim\\lib\\site-packages (from susceptibility-to-fieldmap-fft==0.0.0) (1.26.4)\n",
      "Requirement already satisfied: nibabel>=5.2.1 in c:\\users\\user\\miniconda3\\envs\\mrsim\\lib\\site-packages (from susceptibility-to-fieldmap-fft==0.0.0) (5.2.1)\n",
      "Requirement already satisfied: matplotlib>=3.7.5 in c:\\users\\user\\miniconda3\\envs\\mrsim\\lib\\site-packages (from susceptibility-to-fieldmap-fft==0.0.0) (3.8.4)\n",
      "Requirement already satisfied: scipy>=1.10.1 in c:\\users\\user\\miniconda3\\envs\\mrsim\\lib\\site-packages (from susceptibility-to-fieldmap-fft==0.0.0) (1.13.1)\n",
      "Requirement already satisfied: contourpy>=1.0.1 in c:\\users\\user\\miniconda3\\envs\\mrsim\\lib\\site-packages (from matplotlib>=3.7.5->susceptibility-to-fieldmap-fft==0.0.0) (1.2.0)\n",
      "Requirement already satisfied: cycler>=0.10 in c:\\users\\user\\miniconda3\\envs\\mrsim\\lib\\site-packages (from matplotlib>=3.7.5->susceptibility-to-fieldmap-fft==0.0.0) (0.11.0)\n",
      "Requirement already satisfied: fonttools>=4.22.0 in c:\\users\\user\\miniconda3\\envs\\mrsim\\lib\\site-packages (from matplotlib>=3.7.5->susceptibility-to-fieldmap-fft==0.0.0) (4.51.0)\n",
      "Requirement already satisfied: kiwisolver>=1.3.1 in c:\\users\\user\\miniconda3\\envs\\mrsim\\lib\\site-packages (from matplotlib>=3.7.5->susceptibility-to-fieldmap-fft==0.0.0) (1.4.4)\n",
      "Requirement already satisfied: packaging>=20.0 in c:\\users\\user\\miniconda3\\envs\\mrsim\\lib\\site-packages (from matplotlib>=3.7.5->susceptibility-to-fieldmap-fft==0.0.0) (24.1)\n",
      "Requirement already satisfied: pillow>=8 in c:\\users\\user\\miniconda3\\envs\\mrsim\\lib\\site-packages (from matplotlib>=3.7.5->susceptibility-to-fieldmap-fft==0.0.0) (10.3.0)\n",
      "Requirement already satisfied: pyparsing>=2.3.1 in c:\\users\\user\\miniconda3\\envs\\mrsim\\lib\\site-packages (from matplotlib>=3.7.5->susceptibility-to-fieldmap-fft==0.0.0) (3.0.9)\n",
      "Requirement already satisfied: python-dateutil>=2.7 in c:\\users\\user\\miniconda3\\envs\\mrsim\\lib\\site-packages (from matplotlib>=3.7.5->susceptibility-to-fieldmap-fft==0.0.0) (2.9.0.post0)\n",
      "Requirement already satisfied: colorama in c:\\users\\user\\miniconda3\\envs\\mrsim\\lib\\site-packages (from click->susceptibility-to-fieldmap-fft==0.0.0) (0.4.6)\n",
      "Requirement already satisfied: six>=1.5 in c:\\users\\user\\miniconda3\\envs\\mrsim\\lib\\site-packages (from python-dateutil>=2.7->matplotlib>=3.7.5->susceptibility-to-fieldmap-fft==0.0.0) (1.16.0)\n",
      "Building wheels for collected packages: susceptibility-to-fieldmap-fft\n",
      "  Building wheel for susceptibility-to-fieldmap-fft (setup.py): started\n",
      "  Building wheel for susceptibility-to-fieldmap-fft (setup.py): finished with status 'done'\n",
      "  Created wheel for susceptibility-to-fieldmap-fft: filename=susceptibility_to_fieldmap_fft-0.0.0-py3-none-any.whl size=23545 sha256=c0914fa0f741b67682a41f3aa055a6eba503caa7decedf66ce02e8ef6338f696\n",
      "  Stored in directory: c:\\users\\user\\appdata\\local\\pip\\cache\\wheels\\17\\ea\\51\\22427b7b5d1aced006c3db69245d8a8f88effcb4349a030d61\n",
      "Successfully built susceptibility-to-fieldmap-fft\n",
      "Installing collected packages: susceptibility-to-fieldmap-fft\n",
      "  Attempting uninstall: susceptibility-to-fieldmap-fft\n",
      "    Found existing installation: susceptibility-to-fieldmap-fft 0.0.0\n",
      "    Uninstalling susceptibility-to-fieldmap-fft-0.0.0:\n",
      "      Successfully uninstalled susceptibility-to-fieldmap-fft-0.0.0\n",
      "Successfully installed susceptibility-to-fieldmap-fft-0.0.0\n",
      "Note: you may need to restart the kernel to use updated packages.\n"
     ]
    }
   ],
   "source": [
    "# Above method uses the \"main\" simulation, so we need to load the latest\n",
    "!git clone https://github.com/shimming-toolbox/susceptibility-to-fieldmap-fft.git\n",
    "%cd susceptibility-to-fieldmap-fft\n",
    "!git pull \n",
    "!git checkout mb/custom_pad\n",
    "!git checkout d9f785b082fb145d547ff03ae53f23f1564ccc38\n",
    "%pip install ."
   ]
  },
  {
   "cell_type": "code",
   "execution_count": 4,
   "id": "9c838a7a",
   "metadata": {},
   "outputs": [
    {
     "name": "stdout",
     "output_type": "stream",
     "text": [
      "d9f785b082fb145d547ff03ae53f23f1564ccc38\n"
     ]
    }
   ],
   "source": [
    "!git rev-parse HEAD"
   ]
  },
  {
   "cell_type": "code",
   "execution_count": 5,
   "id": "f5e36b76",
   "metadata": {},
   "outputs": [
    {
     "name": "stdout",
     "output_type": "stream",
     "text": [
      "C:\\Users\\User\\msc_project\\sus-optimization\n",
      "README.md\n",
      "data\n",
      "evas_code.ipynb\n",
      "internal_air_only.nii.gz\n",
      "output\n",
      "requirements.txt\n",
      "simulation\n",
      "soothsayer.ipynb\n",
      "spinal_cord_voxels_only.nii.gz\n",
      "sus_optimization.ipynb\n",
      "susceptibility-to-fieldmap-fft\n",
      "tissue-to-MRproperty\n"
     ]
    }
   ],
   "source": [
    "#Once we confirmed the head of the chi to fbfest we can go to home\n",
    "%cd {home_path}\n",
    "!ls"
   ]
  },
  {
   "cell_type": "code",
   "execution_count": 16,
   "id": "856d32fb",
   "metadata": {},
   "outputs": [],
   "source": [
    "path_to_chi_to_fm_fft = \"C:/Users/User/msc_project/susceptibility-to-fieldmap-fft\"\n",
    "sys.path.append(path_to_chi_to_fm_fft)\n",
    "#sys.path.append('/Users/evaalonsoortiz/Documents/python/susceptibility-to-fieldmap-fft/')\n",
    "from functions import compute_fieldmap"
   ]
  },
  {
   "cell_type": "code",
   "execution_count": 20,
   "id": "a737b875-042b-43da-9a63-93ced3187f25",
   "metadata": {},
   "outputs": [],
   "source": [
    "#meas_fmap_path = \"../data/fm_Hz.nii.gz\"\n",
    "#sim_chi_map_path = \"../data/chimap_crop_custom6.nii.gz\"\n",
    "#ROIs_map_path = \"../data/mask_crop_gre_fov_body_plus_trachea.nii.gz\" # Segmentations"
   ]
  },
  {
   "cell_type": "code",
   "execution_count": 6,
   "id": "c84bde63",
   "metadata": {},
   "outputs": [],
   "source": [
    "# We need to reate the custom command that creates the fieldmap\n",
    "def chi_to_fm_ppm(input_file, output_file):\n",
    "\n",
    "    #Using a custom command for dB0 simulation\n",
    "\n",
    "    command = [\n",
    "    \"compute_fieldmap\",\n",
    "    \"-i\", input_file,\n",
    "    \"-o\", output_file,\n",
    "    \"-b\", \"50\",\n",
    "    \"-m\", \"b0SimISMRM\"\n",
    "    ]\n",
    "\n",
    "    # Run the command and capture output\n",
    "    result = subprocess.run(command, capture_output=True, text=True)\n",
    "\n",
    "    # We need to return the data from the fieldmap created\n",
    "\n",
    "    \n",
    "    # Check for errors\n",
    "    if result.returncode != 0:\n",
    "        print(\"Error occurred:\", result.stderr)\n",
    "\n",
    "    else:\n",
    "        print(\"Fieldmap simulated correctly\", result.stdout)\n",
    "        sim_fm_img = nib.load(output_file)\n",
    "        sim_fm_data = sim_fm_img.get_fdata()\n",
    "        return sim_fm_data"
   ]
  },
  {
   "cell_type": "markdown",
   "id": "0f75b98c",
   "metadata": {},
   "source": [
    "## Load variable paths!"
   ]
  },
  {
   "cell_type": "code",
   "execution_count": 6,
   "id": "3c7cf161",
   "metadata": {},
   "outputs": [],
   "source": [
    "# New paths to cropped ISMRM\n",
    "sim_chi_map_path3 = \"data/crop_ISMRM/db0_030_wb_chimap_crop_ISMRM.nii.gz\"\n",
    "segmentations_cropped = \"data/crop_ISMRM/db0_030_segmentations_cropped_ISRMRM.nii.gz\"\n",
    "sc_final_mask = \"data/crop_ISMRM/sc_seg_c2t7_final_ISMRM.nii.gz\"\n",
    "measured_B0 = \"data/crop_ISMRM/B0_cropped_ISMRM.nii.gz\"\n",
    "demodulating_mask_path = \"data/crop_ISMRM/sc_seg_dilate2_10.nii.gz\""
   ]
  },
  {
   "cell_type": "markdown",
   "id": "b5420c69",
   "metadata": {},
   "source": [
    "## Objective function </br>\n",
    "Minimize the difference of the values on the spinal cord between B0meas and iterativaly changing fieldmaps with different chi values!"
   ]
  },
  {
   "cell_type": "code",
   "execution_count": 12,
   "id": "64ae6e7d-6296-4453-a926-83cbac0d3ab3",
   "metadata": {},
   "outputs": [],
   "source": [
    "def f(x):\n",
    "\n",
    "    print(\"Using chi: \",x)\n",
    "    # load simulated susceptibility map in ppm\n",
    "    chi_img = nib.load(sim_chi_map_path3)\n",
    "    chi_data = chi_img.get_fdata()\n",
    "    \n",
    "    # load segmentation labels map\n",
    "    ROIs_img = nib.load(segmentations_cropped)\n",
    "    ROIs_data = ROIs_img.get_fdata()\n",
    "\n",
    "    sc_seg_img = nib.load(sc_final_mask)\n",
    "    sc_seg_data = sc_seg_img.get_fdata()\n",
    "\n",
    "    demod_mask_img = nib.load(demodulating_mask_path)\n",
    "    demod_mask_data = demod_mask_img.get_fdata()\n",
    "\n",
    "\n",
    "    ind_sc = np.where(sc_seg_data == 1)\n",
    "    # find indicies that have label = 7 or 8, these voxels should correspond to the trachea (t) and lungs (l); ind_tl\n",
    "    ind_tl = np.where((ROIs_data == 7) | (ROIs_data == 8))\n",
    "    \n",
    "\n",
    "    # load simulated field map in Hz\n",
    "    b0meas_img = nib.load(measured_B0)\n",
    "    b0meas_data = b0meas_img.get_fdata()\n",
    "\n",
    "    # assign variable \"x\" to indicies corresponding to trachea/lungs\n",
    "    chi_data[ind_tl] = x\n",
    "\n",
    "    # compute the field distribution in ppm for the chi_data distribution using the compute_bz function from the susceptibility-to-fieldmap-fft package\n",
    "    #z =  compute_fieldmap.compute_bz(chi_data)\n",
    "    chi_dist, image_res , affine_matrix = compute_fieldmap.load_sus_dist(sim_chi_map_path3)\n",
    "    #z = chi_to_fm_ppm(sim_chi_map_path2, output\"output/slurp.nii.gz\")\n",
    "    # convert field distribution from ppm to Hz (assuming 3T)\n",
    "    z = compute_fieldmap.compute_bz(chi_data, image_resolution = image_res , buffer = 50, mode = \"b0SimISMRM\")\n",
    "    z = z*3*42.58 # deltaB0 [Hz] = deltaB0 [ppm] * B0 [T] * 1e-6 * 42.58*e6 [Hz/T]\n",
    "\n",
    "    # Demdoulate Z and b0meas to their own zeros\n",
    "    # Here we coul check if the voxel is bone or tissue (later on)\n",
    "    demod_factor_b0meas = np.mean(b0meas_data[demod_mask_data == 1])\n",
    "    print(\"Demod factor for B0meas: \", demod_factor_b0meas)\n",
    "    demod_factor_z = np.mean(z[demod_mask_data == 1])\n",
    "    print(\"Demod factor for Simulated: \", demod_factor_z)\n",
    "    demod_b0_meas = b0meas_data - demod_factor_b0meas\n",
    "    demod_z = z - demod_factor_z\n",
    "    difference = np.linalg.norm(demod_b0_meas[ind_sc] - demod_z[ind_sc])\n",
    "    print(\"minizing this difference: \", difference)\n",
    "    return (np.linalg.norm(demod_b0_meas[ind_sc] - demod_z[ind_sc]))"
   ]
  },
  {
   "cell_type": "code",
   "execution_count": 18,
   "id": "58c6c8ba-c57d-48b3-bfae-41da22c36cef",
   "metadata": {},
   "outputs": [
    {
     "name": "stdout",
     "output_type": "stream",
     "text": [
      "[291 385 943] [0.5 0.5 0.5]\n",
      "[291 385 943] [0.5 0.5 0.5]\n",
      "[291 385 943] [0.5 0.5 0.5]\n",
      "[291 385 943] [0.5 0.5 0.5]\n",
      "[291 385 943] [0.5 0.5 0.5]\n",
      "[291 385 943] [0.5 0.5 0.5]\n",
      "[291 385 943] [0.5 0.5 0.5]\n",
      "[291 385 943] [0.5 0.5 0.5]\n",
      "[291 385 943] [0.5 0.5 0.5]\n",
      "[291 385 943] [0.5 0.5 0.5]\n",
      "[291 385 943] [0.5 0.5 0.5]\n",
      "[291 385 943] [0.5 0.5 0.5]\n",
      "[291 385 943] [0.5 0.5 0.5]\n",
      "[291 385 943] [0.5 0.5 0.5]\n",
      "[291 385 943] [0.5 0.5 0.5]\n",
      "[291 385 943] [0.5 0.5 0.5]\n",
      "[291 385 943] [0.5 0.5 0.5]\n",
      "[291 385 943] [0.5 0.5 0.5]\n",
      "[291 385 943] [0.5 0.5 0.5]\n",
      "[291 385 943] [0.5 0.5 0.5]\n",
      "[291 385 943] [0.5 0.5 0.5]\n",
      "[291 385 943] [0.5 0.5 0.5]\n",
      "[291 385 943] [0.5 0.5 0.5]\n",
      "[291 385 943] [0.5 0.5 0.5]\n",
      "[291 385 943] [0.5 0.5 0.5]\n",
      "[291 385 943] [0.5 0.5 0.5]\n",
      "[291 385 943] [0.5 0.5 0.5]\n",
      "[291 385 943] [0.5 0.5 0.5]\n",
      "[291 385 943] [0.5 0.5 0.5]\n",
      "[291 385 943] [0.5 0.5 0.5]\n",
      "[291 385 943] [0.5 0.5 0.5]\n",
      "[291 385 943] [0.5 0.5 0.5]\n",
      "[291 385 943] [0.5 0.5 0.5]\n",
      "[291 385 943] [0.5 0.5 0.5]\n",
      "[291 385 943] [0.5 0.5 0.5]\n",
      "[291 385 943] [0.5 0.5 0.5]\n",
      "[291 385 943] [0.5 0.5 0.5]\n",
      "[291 385 943] [0.5 0.5 0.5]\n",
      "[291 385 943] [0.5 0.5 0.5]\n",
      "[291 385 943] [0.5 0.5 0.5]\n",
      "[291 385 943] [0.5 0.5 0.5]\n",
      "[291 385 943] [0.5 0.5 0.5]\n",
      "[291 385 943] [0.5 0.5 0.5]\n",
      "[291 385 943] [0.5 0.5 0.5]\n",
      "[291 385 943] [0.5 0.5 0.5]\n",
      "[291 385 943] [0.5 0.5 0.5]\n",
      "[291 385 943] [0.5 0.5 0.5]\n",
      "[291 385 943] [0.5 0.5 0.5]\n",
      "[291 385 943] [0.5 0.5 0.5]\n",
      "[291 385 943] [0.5 0.5 0.5]\n",
      "[291 385 943] [0.5 0.5 0.5]\n",
      "[291 385 943] [0.5 0.5 0.5]\n",
      "Optimization terminated successfully.\n",
      "         Current function value: 42707.718221\n",
      "         Iterations: 26\n",
      "         Function evaluations: 52\n",
      "Minimum chi: 43.389770507812614\n"
     ]
    }
   ],
   "source": [
    "min_chi_tl = optimize.fmin(f, -3)\n",
    "print(\"Minimum chi:\", min_chi_tl[0])"
   ]
  },
  {
   "cell_type": "code",
   "execution_count": 14,
   "id": "03e68621",
   "metadata": {},
   "outputs": [
    {
     "name": "stdout",
     "output_type": "stream",
     "text": [
      "Using chi:  [-4.2]\n",
      "Demod factor for B0meas:  132.99112910454772\n",
      "Demod factor for Simulated:  -298.37221739257666\n",
      "Using chi:  [-4.19999999]\n",
      "Demod factor for B0meas:  132.99112910454772\n",
      "Demod factor for Simulated:  -298.37221739325076\n",
      "Using chi:  [0.4]\n",
      "Demod factor for B0meas:  132.99112910454772\n",
      "Demod factor for Simulated:  -298.6823132305558\n",
      "Using chi:  [0.39999999]\n",
      "Demod factor for B0meas:  132.99112910454772\n",
      "Demod factor for Simulated:  -298.6823132298815\n",
      "Minimum chi: 0.4\n",
      "Optimization success: True\n",
      "Message: CONVERGENCE: NORM_OF_PROJECTED_GRADIENT_<=_PGTOL\n"
     ]
    }
   ],
   "source": [
    "bounds = [(-5,0.4)]\n",
    "min_chi_tl = optimize.minimize(f, -4.2, bounds=bounds)\n",
    "print(\"Minimum chi:\", min_chi_tl.x[0])\n",
    "print(\"Optimization success:\", min_chi_tl.success)  # Check if the optimization was successful\n",
    "print(\"Message:\", min_chi_tl.message) "
   ]
  },
  {
   "cell_type": "code",
   "execution_count": 10,
   "id": "3f7ef590",
   "metadata": {},
   "outputs": [
    {
     "name": "stdout",
     "output_type": "stream",
     "text": [
      "Minimum chi: [-0.20583366]\n"
     ]
    }
   ],
   "source": [
    "print(\"Minimum chi:\", min_chi_tl.x[0])"
   ]
  },
  {
   "cell_type": "code",
   "execution_count": 16,
   "id": "678e362c",
   "metadata": {},
   "outputs": [
    {
     "name": "stdout",
     "output_type": "stream",
     "text": [
      "Using chi:  [0.]\n",
      "Demod factor for B0meas:  132.99112910454772\n",
      "Demod factor for Simulated:  -298.65534837507926\n",
      "Using chi:  [-1.e-08]\n",
      "Demod factor for B0meas:  132.99112910454772\n",
      "Demod factor for Simulated:  -298.6553483744052\n",
      "Minimum chi: 0.0\n",
      "Optimization success: True\n",
      "Message: CONVERGENCE: NORM_OF_PROJECTED_GRADIENT_<=_PGTOL\n"
     ]
    }
   ],
   "source": [
    "bounds = [(-9.05,0)]\n",
    "min_chi_tl = optimize.minimize(f, 0.35, bounds=bounds)\n",
    "print(\"Minimum chi:\", min_chi_tl.x[0])\n",
    "print(\"Optimization success:\", min_chi_tl.success)  # Check if the optimization was successful\n",
    "print(\"Message:\", min_chi_tl.message) "
   ]
  },
  {
   "cell_type": "markdown",
   "id": "78fc5267",
   "metadata": {},
   "source": [
    "## With new chi value generate a chimap and corresponding FM"
   ]
  },
  {
   "cell_type": "code",
   "execution_count": 17,
   "id": "94ded2a8",
   "metadata": {},
   "outputs": [
    {
     "data": {
      "text/plain": [
       "0.0"
      ]
     },
     "execution_count": 17,
     "metadata": {},
     "output_type": "execute_result"
    }
   ],
   "source": [
    "opt_chi = np.floor(min_chi_tl.x[0]  * 100) / 100.0  #min_chi_tl.x[0]  min_chi_tl[0]\n",
    "opt_chi"
   ]
  },
  {
   "cell_type": "code",
   "execution_count": null,
   "id": "6510c2bc",
   "metadata": {},
   "outputs": [],
   "source": []
  },
  {
   "cell_type": "markdown",
   "id": "630c1504",
   "metadata": {},
   "source": [
    "## eXTRA Code - Testing everything\n",
    "For the new chimaps, there is no spinal cord added but we have the spina cord segmentation"
   ]
  },
  {
   "cell_type": "code",
   "execution_count": 19,
   "id": "b305e000",
   "metadata": {},
   "outputs": [
    {
     "name": "stdout",
     "output_type": "stream",
     "text": [
      "Demod factor for Simulated:  nan\n"
     ]
    }
   ],
   "source": [
    "    # load simulated susceptibility map in ppm\n",
    "chi_img = nib.load(sim_chi_map_path3)\n",
    "chi_data = chi_img.get_fdata()\n",
    "    \n",
    "    # load segmentation labels map\n",
    "ROIs_img = nib.load(segmentations_cropped)\n",
    "ROIs_data = ROIs_img.get_fdata()\n",
    "\n",
    "sc_seg_img = nib.load(sc_final_mask)\n",
    "sc_seg_data = sc_seg_img.get_fdata()\n",
    "\n",
    "demod_mask_img = nib.load(demodulating_mask_path)\n",
    "demod_mask_data = demod_mask_img.get_fdata()\n",
    "\n",
    "\n",
    "ind_sc = np.where(sc_seg_data == 1)\n",
    "    # find indicies that have label = 7 or 8, these voxels should correspond to the trachea (t) and lungs (l); ind_tl\n",
    "ind_tl = np.where((ROIs_data == 7) | (ROIs_data == 8))\n",
    "    \n",
    "\n",
    "    # load simulated field map in Hz\n",
    "b0meas_img = nib.load(measured_B0)\n",
    "b0meas_data = b0meas_img.get_fdata()\n",
    "\n",
    "    # assign variable \"x\" to indicies corresponding to trachea/lungs\n",
    "chi_data[ind_tl] = -4.2 # x in the loop above\n",
    "\n",
    "    # compute the field distribution in ppm for the chi_data distribution using the compute_bz function from the susceptibility-to-fieldmap-fft package\n",
    "    #z =  compute_fieldmap.compute_bz(chi_data)\n",
    "chi_dist, image_res , affine_matrix = compute_fieldmap.load_sus_dist(sim_chi_map_path3)\n",
    "    #z = chi_to_fm_ppm(sim_chi_map_path2, output\"output/slurp.nii.gz\")\n",
    "    # convert field distribution from ppm to Hz (assuming 3T)\n",
    "z = compute_fieldmap.compute_bz(chi_data, image_resolution = image_res , buffer = 50, mode = \"b0SimISMRM\")\n",
    "z = z*3*42.58 # deltaB0 [Hz] = deltaB0 [ppm] * B0 [T] * 1e-6 * 42.58*e6 [Hz/T]\n",
    "\n",
    "demod_factor_z = np.mean(z[demod_mask_data == 1])\n",
    "print(\"Demod factor for Simulated: \", demod_factor_z)\n",
    "demod_z = z - demod_factor_z\n"
   ]
  },
  {
   "cell_type": "code",
   "execution_count": 13,
   "id": "1c009580",
   "metadata": {},
   "outputs": [
    {
     "data": {
      "text/plain": [
       "(191, 285, 843)"
      ]
     },
     "execution_count": 13,
     "metadata": {},
     "output_type": "execute_result"
    }
   ],
   "source": []
  },
  {
   "cell_type": "code",
   "execution_count": 15,
   "id": "38d1d201",
   "metadata": {},
   "outputs": [],
   "source": [
    "# Quickly check if the ind_tl is actually taking the lungs or not\n",
    "ind_tl = np.where((ROIs_data == 7) | (ROIs_data == 8))\n",
    "\n",
    "only_internal_air = np.zeros(np.shape(ROIs_data))\n",
    "only_internal_air[ind_tl] = 1\n",
    "\n",
    "only_air_img = nib.Nifti1Image(only_internal_air, affine=ROIs_img.affine)\n",
    "nib.save(only_air_img, \"internal_air_only.nii.gz\")"
   ]
  },
  {
   "cell_type": "markdown",
   "id": "4261ef71",
   "metadata": {},
   "source": [
    "### Using subprocess to test if we are using the correct version of compute_bz"
   ]
  },
  {
   "cell_type": "code",
   "execution_count": 8,
   "id": "a5e93c86",
   "metadata": {},
   "outputs": [],
   "source": [
    "# For sure that compute_bz is not returning the same even using the same chi value\n",
    "# Lets test calling with the custom function\n",
    "def chi_to_fm_ppm(input_file, output_file):\n",
    "\n",
    "    #Using a custom command for dB0 simulation\n",
    "\n",
    "    command = [\n",
    "    \"compute_fieldmap\",\n",
    "    \"-i\", input_file,\n",
    "    \"-o\", output_file,\n",
    "    \"-b\", \"50\",\n",
    "    \"-m\", \"b0SimISMRM\"\n",
    "    ]\n",
    "\n",
    "    # Run the command and capture output\n",
    "    result = subprocess.run(command, capture_output=True, text=True)\n",
    "    \n",
    "    # Check for errors\n",
    "    if result.returncode != 0:\n",
    "        print(\"Error occurred:\", result.stderr)\n",
    "    else:\n",
    "        print(\"FM created successfully:\", result.stdout)"
   ]
  },
  {
   "cell_type": "code",
   "execution_count": 9,
   "id": "d0df7325",
   "metadata": {},
   "outputs": [
    {
     "name": "stdout",
     "output_type": "stream",
     "text": [
      "FM created successfully: Start\n",
      "Susceptibility distribution loaded\n",
      "Fieldmap simulated\n",
      "Saving to NIfTI format\n",
      "End. Runtime: 20.40 seconds\n",
      "\n"
     ]
    }
   ],
   "source": [
    "chi_to_fm_ppm(sim_chi_map_path3,\"output/please_please_please.nii.gz\")"
   ]
  },
  {
   "cell_type": "code",
   "execution_count": 36,
   "id": "2b2d7964",
   "metadata": {},
   "outputs": [],
   "source": [
    "z_img_demod = nib.Nifti1Image(demod_z, affine = chi_img.affine)\n",
    "nib.save(z_img_demod, \"output/z_demoded_img.nii.gz\")"
   ]
  },
  {
   "cell_type": "code",
   "execution_count": 33,
   "id": "6a393e64",
   "metadata": {},
   "outputs": [],
   "source": [
    "sc_voxels_only = np.zeros_like(sc_seg_data)\n",
    "\n",
    "# Fill the spinal cord voxels\n",
    "sc_voxels_only[ind_sc] = demod_z[ind_sc]\n",
    "\n",
    "# Save the new mask as a NIfTI file for visual inspection\n",
    "masked_img = nib.Nifti1Image(sc_voxels_only, affine=sc_seg_img.affine)\n",
    "nib.save(masked_img, \"spinal_cord_voxels_only.nii.gz\")\n"
   ]
  },
  {
   "cell_type": "markdown",
   "id": "98765034",
   "metadata": {},
   "source": []
  },
  {
   "cell_type": "code",
   "execution_count": null,
   "id": "1f923fff",
   "metadata": {},
   "outputs": [
    {
     "name": "stdout",
     "output_type": "stream",
     "text": [
      "Using chi:  [-4.2]\n",
      "Demod factor for B0meas:  132.99112910454772\n",
      "Demod factor for Simulated:  -298.37221739257666\n",
      "Using chi:  [-4.19999999]\n",
      "Demod factor for B0meas:  132.99112910454772\n",
      "Demod factor for Simulated:  -298.37221739325076\n",
      "Using chi:  [0.4]\n",
      "Demod factor for B0meas:  132.99112910454772\n",
      "Demod factor for Simulated:  -298.6823132305558\n",
      "Using chi:  [0.39999999]\n",
      "Demod factor for B0meas:  132.99112910454772\n",
      "Demod factor for Simulated:  -298.6823132298815\n",
      "Minimum chi: 0.4\n",
      "Optimization success: True\n",
      "Message: CONVERGENCE: NORM_OF_PROJECTED_GRADIENT_<=_PGTOL\n"
     ]
    }
   ],
   "source": [
    "bounds = [(-5,0.4)]\n",
    "min_chi_tl = optimize.minimize(f, -4.2, bounds=bounds)\n",
    "print(\"Minimum chi:\", min_chi_tl.x[0])\n",
    "print(\"Optimization success:\", min_chi_tl.success)  # Check if the optimization was successful\n",
    "print(\"Message:\", min_chi_tl.message) "
   ]
  },
  {
   "cell_type": "code",
   "execution_count": 26,
   "id": "f5e6b3da",
   "metadata": {},
   "outputs": [],
   "source": [
    "# What I want to do is mask this voxels out and see if they are literally the same \n",
    "masked_b0meas = np.zeros(np.shape(b0meas_data))\n",
    "masked_chi_dist = np.zeros(np.shape(chi_data))\n",
    "\n",
    "masked_b0meas = b0meas_data[sc_seg_data == 1]\n",
    "\n",
    "masked_b0_img = nib.Nifti1Image(masked_b0meas, affine=b0meas_img.affine)\n",
    "nib.save(masked_b0_img, \"output/masked/masked_B0meas.nii.gz\")\n",
    "\n",
    "masked_chimap = chi_data[ind_sc]\n",
    "\n",
    "masked_chimap_img = nib.Nifti1Image(masked_chimap, affine=chi_img.affine)\n",
    "nib.save(masked_chimap_img, \"output/masked/mask_chimap.nii.gz\")"
   ]
  },
  {
   "cell_type": "code",
   "execution_count": 23,
   "id": "2cf4a903",
   "metadata": {},
   "outputs": [
    {
     "data": {
      "text/plain": [
       "(191, 285, 843)"
      ]
     },
     "execution_count": 23,
     "metadata": {},
     "output_type": "execute_result"
    }
   ],
   "source": [
    "np.shape(b0meas_data)"
   ]
  },
  {
   "cell_type": "code",
   "execution_count": null,
   "id": "245e8caf",
   "metadata": {},
   "outputs": [],
   "source": [
    "z_img = nib.nifti1Image(z, affine = chi_img.affine)\n",
    "nib.save(z_img, \"output/z_image_chi.nii.gz\")"
   ]
  }
 ],
 "metadata": {
  "kernelspec": {
   "display_name": "Python 3",
   "language": "python",
   "name": "python3"
  },
  "language_info": {
   "codemirror_mode": {
    "name": "ipython",
    "version": 3
   },
   "file_extension": ".py",
   "mimetype": "text/x-python",
   "name": "python",
   "nbconvert_exporter": "python",
   "pygments_lexer": "ipython3",
   "version": "3.12.4"
  }
 },
 "nbformat": 4,
 "nbformat_minor": 5
}
