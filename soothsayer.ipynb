{
 "cells": [
  {
   "cell_type": "code",
   "execution_count": 1,
   "id": "d16207a5-7247-42eb-a576-22ceea8c3903",
   "metadata": {},
   "outputs": [],
   "source": [
    "%matplotlib inline\n",
    "import nibabel as nib\n",
    "import numpy as np\n",
    "from scipy import optimize\n",
    "import matplotlib.pyplot as plt\n",
    "import matplotlib.image as mpimg\n"
   ]
  },
  {
   "cell_type": "code",
   "execution_count": 2,
   "id": "296bd163",
   "metadata": {},
   "outputs": [],
   "source": [
    "home_path = \"C:/Users/User/msc_project/sus-optimization\""
   ]
  },
  {
   "cell_type": "code",
   "execution_count": 14,
   "id": "5f8da9a6",
   "metadata": {},
   "outputs": [
    {
     "name": "stdout",
     "output_type": "stream",
     "text": [
      "c:\\Users\\User\\msc_project\\sus-optimization\\susceptibility-to-fieldmap-fft\\susceptibility-to-fieldmap-fft\\susceptibility-to-fieldmap-fft\n"
     ]
    },
    {
     "name": "stderr",
     "output_type": "stream",
     "text": [
      "Cloning into 'susceptibility-to-fieldmap-fft'...\n",
      "c:\\Users\\User\\miniconda3\\envs\\mrsim\\Lib\\site-packages\\IPython\\core\\magics\\osm.py:417: UserWarning: This is now an optional IPython functionality, setting dhist requires you to install the `pickleshare` library.\n",
      "  self.shell.db['dhist'] = compress_dhist(dhist)[-100:]\n"
     ]
    },
    {
     "name": "stdout",
     "output_type": "stream",
     "text": [
      "branch 'mb/custom_pad' set up to track 'origin/mb/custom_pad'.\n"
     ]
    },
    {
     "name": "stderr",
     "output_type": "stream",
     "text": [
      "Switched to a new branch 'mb/custom_pad'\n"
     ]
    },
    {
     "name": "stdout",
     "output_type": "stream",
     "text": [
      "Processing c:\\users\\user\\msc_project\\sus-optimization\\susceptibility-to-fieldmap-fft\\susceptibility-to-fieldmap-fft\\susceptibility-to-fieldmap-fft\n",
      "  Preparing metadata (setup.py): started\n",
      "  Preparing metadata (setup.py): finished with status 'done'\n",
      "Requirement already satisfied: click in c:\\users\\user\\miniconda3\\envs\\mrsim\\lib\\site-packages (from susceptibility-to-fieldmap-fft==0.0.0) (8.1.7)\n",
      "Requirement already satisfied: numpy>=1.24.4 in c:\\users\\user\\miniconda3\\envs\\mrsim\\lib\\site-packages (from susceptibility-to-fieldmap-fft==0.0.0) (1.26.4)\n",
      "Requirement already satisfied: nibabel>=5.2.1 in c:\\users\\user\\miniconda3\\envs\\mrsim\\lib\\site-packages (from susceptibility-to-fieldmap-fft==0.0.0) (5.2.1)\n",
      "Requirement already satisfied: matplotlib>=3.7.5 in c:\\users\\user\\miniconda3\\envs\\mrsim\\lib\\site-packages (from susceptibility-to-fieldmap-fft==0.0.0) (3.8.4)\n",
      "Requirement already satisfied: scipy>=1.10.1 in c:\\users\\user\\miniconda3\\envs\\mrsim\\lib\\site-packages (from susceptibility-to-fieldmap-fft==0.0.0) (1.13.1)\n",
      "Requirement already satisfied: contourpy>=1.0.1 in c:\\users\\user\\miniconda3\\envs\\mrsim\\lib\\site-packages (from matplotlib>=3.7.5->susceptibility-to-fieldmap-fft==0.0.0) (1.2.0)\n",
      "Requirement already satisfied: cycler>=0.10 in c:\\users\\user\\miniconda3\\envs\\mrsim\\lib\\site-packages (from matplotlib>=3.7.5->susceptibility-to-fieldmap-fft==0.0.0) (0.11.0)\n",
      "Requirement already satisfied: fonttools>=4.22.0 in c:\\users\\user\\miniconda3\\envs\\mrsim\\lib\\site-packages (from matplotlib>=3.7.5->susceptibility-to-fieldmap-fft==0.0.0) (4.51.0)\n",
      "Requirement already satisfied: kiwisolver>=1.3.1 in c:\\users\\user\\miniconda3\\envs\\mrsim\\lib\\site-packages (from matplotlib>=3.7.5->susceptibility-to-fieldmap-fft==0.0.0) (1.4.4)\n",
      "Requirement already satisfied: packaging>=20.0 in c:\\users\\user\\miniconda3\\envs\\mrsim\\lib\\site-packages (from matplotlib>=3.7.5->susceptibility-to-fieldmap-fft==0.0.0) (24.1)\n",
      "Requirement already satisfied: pillow>=8 in c:\\users\\user\\miniconda3\\envs\\mrsim\\lib\\site-packages (from matplotlib>=3.7.5->susceptibility-to-fieldmap-fft==0.0.0) (10.3.0)\n",
      "Requirement already satisfied: pyparsing>=2.3.1 in c:\\users\\user\\miniconda3\\envs\\mrsim\\lib\\site-packages (from matplotlib>=3.7.5->susceptibility-to-fieldmap-fft==0.0.0) (3.0.9)\n",
      "Requirement already satisfied: python-dateutil>=2.7 in c:\\users\\user\\miniconda3\\envs\\mrsim\\lib\\site-packages (from matplotlib>=3.7.5->susceptibility-to-fieldmap-fft==0.0.0) (2.9.0.post0)\n",
      "Requirement already satisfied: colorama in c:\\users\\user\\miniconda3\\envs\\mrsim\\lib\\site-packages (from click->susceptibility-to-fieldmap-fft==0.0.0) (0.4.6)\n",
      "Requirement already satisfied: six>=1.5 in c:\\users\\user\\miniconda3\\envs\\mrsim\\lib\\site-packages (from python-dateutil>=2.7->matplotlib>=3.7.5->susceptibility-to-fieldmap-fft==0.0.0) (1.16.0)\n",
      "Building wheels for collected packages: susceptibility-to-fieldmap-fft\n",
      "  Building wheel for susceptibility-to-fieldmap-fft (setup.py): started\n",
      "  Building wheel for susceptibility-to-fieldmap-fft (setup.py): finished with status 'done'\n",
      "  Created wheel for susceptibility-to-fieldmap-fft: filename=susceptibility_to_fieldmap_fft-0.0.0-py3-none-any.whl size=23545 sha256=4a1f4ad7ce00d61cba5796bf1ce4baf5ca2d17e4cae1145edd23226c9ea4efdc\n",
      "  Stored in directory: c:\\users\\user\\appdata\\local\\pip\\cache\\wheels\\b9\\bc\\3f\\dc236ce32c3c7e6735cc662c8aee149412acd5cdf33fa7ef4b\n",
      "Successfully built susceptibility-to-fieldmap-fft\n",
      "Installing collected packages: susceptibility-to-fieldmap-fft\n",
      "  Attempting uninstall: susceptibility-to-fieldmap-fft\n",
      "    Found existing installation: susceptibility-to-fieldmap-fft 0.0.0\n",
      "    Uninstalling susceptibility-to-fieldmap-fft-0.0.0:\n",
      "      Successfully uninstalled susceptibility-to-fieldmap-fft-0.0.0\n",
      "Successfully installed susceptibility-to-fieldmap-fft-0.0.0\n",
      "Note: you may need to restart the kernel to use updated packages.\n",
      "C:\\Users\\User\\msc_project\\sus-optimization\n"
     ]
    }
   ],
   "source": [
    "!git clone https://github.com/shimming-toolbox/susceptibility-to-fieldmap-fft.git\n",
    "%cd susceptibility-to-fieldmap-fft\n",
    "!git checkout mb/custom_pad\n",
    "%pip install .\n",
    "%cd {home_path}"
   ]
  },
  {
   "cell_type": "code",
   "execution_count": 3,
   "id": "0bd6be7b",
   "metadata": {},
   "outputs": [
    {
     "name": "stdout",
     "output_type": "stream",
     "text": [
      "Note: you may need to restart the kernel to use updated packages.\n"
     ]
    },
    {
     "name": "stderr",
     "output_type": "stream",
     "text": [
      "ERROR: Directory '.' is not installable. Neither 'setup.py' nor 'pyproject.toml' found.\n"
     ]
    }
   ],
   "source": [
    "!git clone https://github.com/shimming-toolbox/tissue-to-MRproperty.git\n",
    "%cd tissue_to_MRproperty\n",
    "!git checkout dev/fine-tune\n",
    "%pip install .\n",
    "%cd {home_path}"
   ]
  },
  {
   "cell_type": "code",
   "execution_count": 14,
   "id": "6f627459",
   "metadata": {},
   "outputs": [
    {
     "name": "stdout",
     "output_type": "stream",
     "text": [
      "Usage: tissue_to_MR [OPTIONS] INPUT_FILE [OUTPUT_FILE]\n",
      "\n",
      "Options:\n",
      "  -s, --segtool [TotalSeg_CT|TotalSeg_MRI|ProCord_MRI|charles|compare_fm]\n",
      "                                  State what segmentator was used  [required]\n",
      "  -v, --version [v1|v2|mod0|mod1|mod2|dyn|mod_PAM50]\n",
      "                                  Select the version of your segmentation file\n",
      "                                  [required]\n",
      "  -t, --type [t2s|sus|pd|t1|t2]   Please choose MR property to convert to\n",
      "                                  [required]\n",
      "  -g, --gauss [0|1]               Set to 1 to use Gaussian distribution\n",
      "  -x, --chi FLOAT                 Used to define new chi value for FM\n",
      "                                  comparison approach\n",
      "  --help                          Show this message and exit.\n"
     ]
    }
   ],
   "source": [
    "!tissue_to_mr --help"
   ]
  },
  {
   "cell_type": "markdown",
   "id": "d3b528c1",
   "metadata": {},
   "source": [
    "# Sebastian Code "
   ]
  },
  {
   "cell_type": "code",
   "execution_count": 18,
   "id": "2eabfe6d",
   "metadata": {},
   "outputs": [],
   "source": [
    "import subprocess\n",
    "\n",
    "def seg_to_chi(seg_file,chi,output_file):\n",
    "\n",
    "    # Using our command to generate new chi map\n",
    "\n",
    "    command = [\n",
    "    \"tissue_to_mr\",\n",
    "    seg_file,\n",
    "    \"-t\", \"sus\",\n",
    "    \"-s\", \"compare_fm\",\n",
    "    \"-v\", \"dyn\",\n",
    "    \"-x\", chi,\n",
    "    output_file\n",
    "]\n",
    "\n",
    "    # Run the command and capture output\n",
    "    result = subprocess.run(command, capture_output=True, text=True)\n",
    "\n",
    "    # Check for errors\n",
    "    if result.returncode != 0:\n",
    "        print(\"Error occurred:\", result.stderr)\n",
    "    else:\n",
    "        print(\"Metrics extracted successfully:\", result.stdout)\n",
    "\n",
    "def chi_to_fm_ppm(input_file, output_file):\n",
    "\n",
    "    #Using a custom command for dB0 simulation\n",
    "\n",
    "    command = [\n",
    "    \"compute_fieldmap\",\n",
    "    \"-i\", input_file,\n",
    "    \"-o\", output_file,\n",
    "    \"-b\", \"50\",\n",
    "    \"-m\", \"b0SimISMRM\"\n",
    "    ]\n",
    "\n",
    "    # Run the command and capture output\n",
    "    result = subprocess.run(command, capture_output=True, text=True)\n",
    "    \n",
    "    # Check for errors\n",
    "    if result.returncode != 0:\n",
    "        print(\"Error occurred:\", result.stderr)\n",
    "    else:\n",
    "        print(\"Metrics extracted successfully:\", result.stdout)\n"
   ]
  },
  {
   "cell_type": "code",
   "execution_count": 6,
   "id": "83302449",
   "metadata": {},
   "outputs": [],
   "source": [
    "# File location variable designation:\n",
    "# Suggestion: put the final files in the data folder under this repository \n",
    "path_chimap = 'data/db0_030_wb_chimap.nii.gz'\n",
    "path_labels = 'data/db0_030_segmentations.nii.gz'\n",
    "path_fm_Hz = 'data/demod_ISMRM_sim_fm_Hz.nii.gz'"
   ]
  },
  {
   "cell_type": "code",
   "execution_count": 6,
   "id": "1dfca249",
   "metadata": {},
   "outputs": [],
   "source": [
    "chimap_img = nib.load(path_chimap)"
   ]
  },
  {
   "cell_type": "code",
   "execution_count": 7,
   "id": "d70427cc",
   "metadata": {},
   "outputs": [
    {
     "ename": "TypeError",
     "evalue": "expected str, bytes or os.PathLike object, not Nifti1Image",
     "output_type": "error",
     "traceback": [
      "\u001b[1;31m---------------------------------------------------------------------------\u001b[0m",
      "\u001b[1;31mTypeError\u001b[0m                                 Traceback (most recent call last)",
      "Cell \u001b[1;32mIn[7], line 2\u001b[0m\n\u001b[0;32m      1\u001b[0m \u001b[38;5;66;03m# Testing seg to chi converter\u001b[39;00m\n\u001b[1;32m----> 2\u001b[0m a \u001b[38;5;241m=\u001b[39m seg_to_chi(chimap_img,\u001b[38;5;241m0.65\u001b[39m,\u001b[38;5;124m\"\u001b[39m\u001b[38;5;124moutput/0.65_chimap.nii.gz\u001b[39m\u001b[38;5;124m\"\u001b[39m)\n",
      "Cell \u001b[1;32mIn[4], line 18\u001b[0m, in \u001b[0;36mseg_to_chi\u001b[1;34m(seg_file, chi, output_file)\u001b[0m\n\u001b[0;32m      7\u001b[0m     command \u001b[38;5;241m=\u001b[39m [\n\u001b[0;32m      8\u001b[0m     \u001b[38;5;124m\"\u001b[39m\u001b[38;5;124mtissue_to_mr\u001b[39m\u001b[38;5;124m\"\u001b[39m,\n\u001b[0;32m      9\u001b[0m     seg_file,\n\u001b[1;32m   (...)\u001b[0m\n\u001b[0;32m     14\u001b[0m     output_file\n\u001b[0;32m     15\u001b[0m ]\n\u001b[0;32m     17\u001b[0m     \u001b[38;5;66;03m# Run the command and capture output\u001b[39;00m\n\u001b[1;32m---> 18\u001b[0m     result \u001b[38;5;241m=\u001b[39m subprocess\u001b[38;5;241m.\u001b[39mrun(command, capture_output\u001b[38;5;241m=\u001b[39m\u001b[38;5;28;01mTrue\u001b[39;00m, text\u001b[38;5;241m=\u001b[39m\u001b[38;5;28;01mTrue\u001b[39;00m)\n\u001b[0;32m     20\u001b[0m     \u001b[38;5;66;03m# Check for errors\u001b[39;00m\n\u001b[0;32m     21\u001b[0m     \u001b[38;5;28;01mif\u001b[39;00m result\u001b[38;5;241m.\u001b[39mreturncode \u001b[38;5;241m!=\u001b[39m \u001b[38;5;241m0\u001b[39m:\n",
      "File \u001b[1;32mc:\\Users\\User\\miniconda3\\envs\\mrsim\\Lib\\subprocess.py:548\u001b[0m, in \u001b[0;36mrun\u001b[1;34m(input, capture_output, timeout, check, *popenargs, **kwargs)\u001b[0m\n\u001b[0;32m    545\u001b[0m     kwargs[\u001b[38;5;124m'\u001b[39m\u001b[38;5;124mstdout\u001b[39m\u001b[38;5;124m'\u001b[39m] \u001b[38;5;241m=\u001b[39m PIPE\n\u001b[0;32m    546\u001b[0m     kwargs[\u001b[38;5;124m'\u001b[39m\u001b[38;5;124mstderr\u001b[39m\u001b[38;5;124m'\u001b[39m] \u001b[38;5;241m=\u001b[39m PIPE\n\u001b[1;32m--> 548\u001b[0m \u001b[38;5;28;01mwith\u001b[39;00m Popen(\u001b[38;5;241m*\u001b[39mpopenargs, \u001b[38;5;241m*\u001b[39m\u001b[38;5;241m*\u001b[39mkwargs) \u001b[38;5;28;01mas\u001b[39;00m process:\n\u001b[0;32m    549\u001b[0m     \u001b[38;5;28;01mtry\u001b[39;00m:\n\u001b[0;32m    550\u001b[0m         stdout, stderr \u001b[38;5;241m=\u001b[39m process\u001b[38;5;241m.\u001b[39mcommunicate(\u001b[38;5;28minput\u001b[39m, timeout\u001b[38;5;241m=\u001b[39mtimeout)\n",
      "File \u001b[1;32mc:\\Users\\User\\miniconda3\\envs\\mrsim\\Lib\\subprocess.py:1026\u001b[0m, in \u001b[0;36mPopen.__init__\u001b[1;34m(self, args, bufsize, executable, stdin, stdout, stderr, preexec_fn, close_fds, shell, cwd, env, universal_newlines, startupinfo, creationflags, restore_signals, start_new_session, pass_fds, user, group, extra_groups, encoding, errors, text, umask, pipesize, process_group)\u001b[0m\n\u001b[0;32m   1022\u001b[0m         \u001b[38;5;28;01mif\u001b[39;00m \u001b[38;5;28mself\u001b[39m\u001b[38;5;241m.\u001b[39mtext_mode:\n\u001b[0;32m   1023\u001b[0m             \u001b[38;5;28mself\u001b[39m\u001b[38;5;241m.\u001b[39mstderr \u001b[38;5;241m=\u001b[39m io\u001b[38;5;241m.\u001b[39mTextIOWrapper(\u001b[38;5;28mself\u001b[39m\u001b[38;5;241m.\u001b[39mstderr,\n\u001b[0;32m   1024\u001b[0m                     encoding\u001b[38;5;241m=\u001b[39mencoding, errors\u001b[38;5;241m=\u001b[39merrors)\n\u001b[1;32m-> 1026\u001b[0m     \u001b[38;5;28mself\u001b[39m\u001b[38;5;241m.\u001b[39m_execute_child(args, executable, preexec_fn, close_fds,\n\u001b[0;32m   1027\u001b[0m                         pass_fds, cwd, env,\n\u001b[0;32m   1028\u001b[0m                         startupinfo, creationflags, shell,\n\u001b[0;32m   1029\u001b[0m                         p2cread, p2cwrite,\n\u001b[0;32m   1030\u001b[0m                         c2pread, c2pwrite,\n\u001b[0;32m   1031\u001b[0m                         errread, errwrite,\n\u001b[0;32m   1032\u001b[0m                         restore_signals,\n\u001b[0;32m   1033\u001b[0m                         gid, gids, uid, umask,\n\u001b[0;32m   1034\u001b[0m                         start_new_session, process_group)\n\u001b[0;32m   1035\u001b[0m \u001b[38;5;28;01mexcept\u001b[39;00m:\n\u001b[0;32m   1036\u001b[0m     \u001b[38;5;66;03m# Cleanup if the child failed starting.\u001b[39;00m\n\u001b[0;32m   1037\u001b[0m     \u001b[38;5;28;01mfor\u001b[39;00m f \u001b[38;5;129;01min\u001b[39;00m \u001b[38;5;28mfilter\u001b[39m(\u001b[38;5;28;01mNone\u001b[39;00m, (\u001b[38;5;28mself\u001b[39m\u001b[38;5;241m.\u001b[39mstdin, \u001b[38;5;28mself\u001b[39m\u001b[38;5;241m.\u001b[39mstdout, \u001b[38;5;28mself\u001b[39m\u001b[38;5;241m.\u001b[39mstderr)):\n",
      "File \u001b[1;32mc:\\Users\\User\\miniconda3\\envs\\mrsim\\Lib\\subprocess.py:1462\u001b[0m, in \u001b[0;36mPopen._execute_child\u001b[1;34m(self, args, executable, preexec_fn, close_fds, pass_fds, cwd, env, startupinfo, creationflags, shell, p2cread, p2cwrite, c2pread, c2pwrite, errread, errwrite, unused_restore_signals, unused_gid, unused_gids, unused_uid, unused_umask, unused_start_new_session, unused_process_group)\u001b[0m\n\u001b[0;32m   1460\u001b[0m     args \u001b[38;5;241m=\u001b[39m list2cmdline([args])\n\u001b[0;32m   1461\u001b[0m \u001b[38;5;28;01melse\u001b[39;00m:\n\u001b[1;32m-> 1462\u001b[0m     args \u001b[38;5;241m=\u001b[39m list2cmdline(args)\n\u001b[0;32m   1464\u001b[0m \u001b[38;5;28;01mif\u001b[39;00m executable \u001b[38;5;129;01mis\u001b[39;00m \u001b[38;5;129;01mnot\u001b[39;00m \u001b[38;5;28;01mNone\u001b[39;00m:\n\u001b[0;32m   1465\u001b[0m     executable \u001b[38;5;241m=\u001b[39m os\u001b[38;5;241m.\u001b[39mfsdecode(executable)\n",
      "File \u001b[1;32mc:\\Users\\User\\miniconda3\\envs\\mrsim\\Lib\\subprocess.py:608\u001b[0m, in \u001b[0;36mlist2cmdline\u001b[1;34m(seq)\u001b[0m\n\u001b[0;32m    606\u001b[0m result \u001b[38;5;241m=\u001b[39m []\n\u001b[0;32m    607\u001b[0m needquote \u001b[38;5;241m=\u001b[39m \u001b[38;5;28;01mFalse\u001b[39;00m\n\u001b[1;32m--> 608\u001b[0m \u001b[38;5;28;01mfor\u001b[39;00m arg \u001b[38;5;129;01min\u001b[39;00m \u001b[38;5;28mmap\u001b[39m(os\u001b[38;5;241m.\u001b[39mfsdecode, seq):\n\u001b[0;32m    609\u001b[0m     bs_buf \u001b[38;5;241m=\u001b[39m []\n\u001b[0;32m    611\u001b[0m     \u001b[38;5;66;03m# Add a space to separate this argument from the others\u001b[39;00m\n",
      "File \u001b[1;32m<frozen os>:859\u001b[0m, in \u001b[0;36mfsdecode\u001b[1;34m(filename)\u001b[0m\n",
      "\u001b[1;31mTypeError\u001b[0m: expected str, bytes or os.PathLike object, not Nifti1Image"
     ]
    }
   ],
   "source": [
    "# Testing seg to chi converter\n",
    "a = seg_to_chi(chimap_img,0.65,\"output/0.65_chimap.nii.gz\")"
   ]
  },
  {
   "cell_type": "code",
   "execution_count": 19,
   "id": "0c0d01bd",
   "metadata": {},
   "outputs": [
    {
     "name": "stdout",
     "output_type": "stream",
     "text": [
      "Metrics extracted successfully: Start\n",
      "Susceptibility distribution loaded\n",
      "Fieldmap simulated\n",
      "Saving to NIfTI format\n",
      "End. Runtime: 29.95 seconds\n",
      "\n"
     ]
    }
   ],
   "source": [
    "# Testing chi to FM\n",
    "b = chi_to_fm_ppm(path_chimap,\"output/testing_fbf_function.nii.gz\")"
   ]
  }
 ],
 "metadata": {
  "kernelspec": {
   "display_name": "Python 3",
   "language": "python",
   "name": "python3"
  },
  "language_info": {
   "codemirror_mode": {
    "name": "ipython",
    "version": 3
   },
   "file_extension": ".py",
   "mimetype": "text/x-python",
   "name": "python",
   "nbconvert_exporter": "python",
   "pygments_lexer": "ipython3",
   "version": "3.12.4"
  }
 },
 "nbformat": 4,
 "nbformat_minor": 5
}
