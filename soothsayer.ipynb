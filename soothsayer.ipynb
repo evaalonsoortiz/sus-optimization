{
 "cells": [
  {
   "cell_type": "code",
   "execution_count": 30,
   "id": "d16207a5-7247-42eb-a576-22ceea8c3903",
   "metadata": {},
   "outputs": [],
   "source": [
    "%matplotlib inline\n",
    "import nibabel as nib\n",
    "import numpy as np\n",
    "from scipy import optimize\n",
    "import matplotlib.pyplot as plt\n",
    "import matplotlib.image as mpimg\n"
   ]
  },
  {
   "cell_type": "code",
   "execution_count": 31,
   "id": "296bd163",
   "metadata": {},
   "outputs": [],
   "source": [
    "home_path = \"C:/Users/User/msc_project/sus-optimization\""
   ]
  },
  {
   "cell_type": "markdown",
   "id": "70558cc8",
   "metadata": {},
   "source": [
    "## Pip installing the 2 repositories </br>\n",
    "*Only need to be ran once or after changes in the submodules*"
   ]
  },
  {
   "cell_type": "code",
   "execution_count": 1,
   "id": "5f8da9a6",
   "metadata": {},
   "outputs": [
    {
     "name": "stdout",
     "output_type": "stream",
     "text": [
      "c:\\Users\\User\\msc_project\\sus-optimization\\susceptibility-to-fieldmap-fft\n"
     ]
    },
    {
     "name": "stderr",
     "output_type": "stream",
     "text": [
      "fatal: destination path 'susceptibility-to-fieldmap-fft' already exists and is not an empty directory.\n",
      "c:\\Users\\User\\miniconda3\\envs\\chi_opt\\Lib\\site-packages\\IPython\\core\\magics\\osm.py:417: UserWarning: This is now an optional IPython functionality, setting dhist requires you to install the `pickleshare` library.\n",
      "  self.shell.db['dhist'] = compress_dhist(dhist)[-100:]\n"
     ]
    },
    {
     "name": "stdout",
     "output_type": "stream",
     "text": [
      "M\tfunctions/compute_fieldmap.py\n",
      "Your branch is up to date with 'origin/mb/custom_pad'.\n"
     ]
    },
    {
     "name": "stderr",
     "output_type": "stream",
     "text": [
      "Already on 'mb/custom_pad'\n"
     ]
    },
    {
     "name": "stdout",
     "output_type": "stream",
     "text": [
      "Processing c:\\users\\user\\msc_project\\sus-optimization\\susceptibility-to-fieldmap-fft\n",
      "  Preparing metadata (setup.py): started\n",
      "  Preparing metadata (setup.py): finished with status 'done'\n",
      "Requirement already satisfied: click in c:\\users\\user\\miniconda3\\envs\\chi_opt\\lib\\site-packages (from susceptibility-to-fieldmap-fft==0.0.0) (8.1.7)\n",
      "Requirement already satisfied: numpy>=1.24.4 in c:\\users\\user\\miniconda3\\envs\\chi_opt\\lib\\site-packages (from susceptibility-to-fieldmap-fft==0.0.0) (1.26.4)\n",
      "Requirement already satisfied: nibabel>=5.2.1 in c:\\users\\user\\miniconda3\\envs\\chi_opt\\lib\\site-packages (from susceptibility-to-fieldmap-fft==0.0.0) (5.2.1)\n",
      "Requirement already satisfied: matplotlib>=3.7.5 in c:\\users\\user\\miniconda3\\envs\\chi_opt\\lib\\site-packages (from susceptibility-to-fieldmap-fft==0.0.0) (3.8.4)\n",
      "Requirement already satisfied: scipy>=1.10.1 in c:\\users\\user\\miniconda3\\envs\\chi_opt\\lib\\site-packages (from susceptibility-to-fieldmap-fft==0.0.0) (1.13.1)\n",
      "Requirement already satisfied: contourpy>=1.0.1 in c:\\users\\user\\miniconda3\\envs\\chi_opt\\lib\\site-packages (from matplotlib>=3.7.5->susceptibility-to-fieldmap-fft==0.0.0) (1.2.0)\n",
      "Requirement already satisfied: cycler>=0.10 in c:\\users\\user\\miniconda3\\envs\\chi_opt\\lib\\site-packages (from matplotlib>=3.7.5->susceptibility-to-fieldmap-fft==0.0.0) (0.11.0)\n",
      "Requirement already satisfied: fonttools>=4.22.0 in c:\\users\\user\\miniconda3\\envs\\chi_opt\\lib\\site-packages (from matplotlib>=3.7.5->susceptibility-to-fieldmap-fft==0.0.0) (4.51.0)\n",
      "Requirement already satisfied: kiwisolver>=1.3.1 in c:\\users\\user\\miniconda3\\envs\\chi_opt\\lib\\site-packages (from matplotlib>=3.7.5->susceptibility-to-fieldmap-fft==0.0.0) (1.4.4)\n",
      "Requirement already satisfied: packaging>=20.0 in c:\\users\\user\\miniconda3\\envs\\chi_opt\\lib\\site-packages (from matplotlib>=3.7.5->susceptibility-to-fieldmap-fft==0.0.0) (24.1)\n",
      "Requirement already satisfied: pillow>=8 in c:\\users\\user\\miniconda3\\envs\\chi_opt\\lib\\site-packages (from matplotlib>=3.7.5->susceptibility-to-fieldmap-fft==0.0.0) (10.3.0)\n",
      "Requirement already satisfied: pyparsing>=2.3.1 in c:\\users\\user\\miniconda3\\envs\\chi_opt\\lib\\site-packages (from matplotlib>=3.7.5->susceptibility-to-fieldmap-fft==0.0.0) (3.0.9)\n",
      "Requirement already satisfied: python-dateutil>=2.7 in c:\\users\\user\\miniconda3\\envs\\chi_opt\\lib\\site-packages (from matplotlib>=3.7.5->susceptibility-to-fieldmap-fft==0.0.0) (2.9.0.post0)\n",
      "Requirement already satisfied: colorama in c:\\users\\user\\miniconda3\\envs\\chi_opt\\lib\\site-packages (from click->susceptibility-to-fieldmap-fft==0.0.0) (0.4.6)\n",
      "Requirement already satisfied: six>=1.5 in c:\\users\\user\\miniconda3\\envs\\chi_opt\\lib\\site-packages (from python-dateutil>=2.7->matplotlib>=3.7.5->susceptibility-to-fieldmap-fft==0.0.0) (1.16.0)\n",
      "Building wheels for collected packages: susceptibility-to-fieldmap-fft\n",
      "  Building wheel for susceptibility-to-fieldmap-fft (setup.py): started\n",
      "  Building wheel for susceptibility-to-fieldmap-fft (setup.py): finished with status 'done'\n",
      "  Created wheel for susceptibility-to-fieldmap-fft: filename=susceptibility_to_fieldmap_fft-0.0.0-py3-none-any.whl size=23554 sha256=abd84ff81033d2f8c0f7f9bde200a0eadcacb864b75dc27b3cafbd23c85ec053\n",
      "  Stored in directory: c:\\users\\user\\appdata\\local\\pip\\cache\\wheels\\17\\ea\\51\\22427b7b5d1aced006c3db69245d8a8f88effcb4349a030d61\n",
      "Successfully built susceptibility-to-fieldmap-fft\n",
      "Installing collected packages: susceptibility-to-fieldmap-fft\n",
      "  Attempting uninstall: susceptibility-to-fieldmap-fft\n",
      "    Found existing installation: susceptibility-to-fieldmap-fft 0.0.0\n",
      "    Uninstalling susceptibility-to-fieldmap-fft-0.0.0:\n",
      "      Successfully uninstalled susceptibility-to-fieldmap-fft-0.0.0\n",
      "Successfully installed susceptibility-to-fieldmap-fft-0.0.0\n",
      "Note: you may need to restart the kernel to use updated packages.\n",
      "[WinError 2] The system cannot find the file specified: '{home_path}'\n",
      "c:\\Users\\User\\msc_project\\sus-optimization\\susceptibility-to-fieldmap-fft\n"
     ]
    },
    {
     "name": "stderr",
     "output_type": "stream",
     "text": [
      "c:\\Users\\User\\miniconda3\\envs\\chi_opt\\Lib\\site-packages\\IPython\\core\\magics\\osm.py:393: UserWarning: This is now an optional IPython functionality, using bookmarks requires you to install the `pickleshare` library.\n",
      "  bkms = self.shell.db.get('bookmarks', {})\n"
     ]
    }
   ],
   "source": [
    "!git clone https://github.com/shimming-toolbox/susceptibility-to-fieldmap-fft.git\n",
    "%cd susceptibility-to-fieldmap-fft\n",
    "!git checkout mb/custom_pad\n",
    "%pip install .\n",
    "%cd {home_path}"
   ]
  },
  {
   "cell_type": "code",
   "execution_count": 41,
   "id": "0bd6be7b",
   "metadata": {},
   "outputs": [
    {
     "name": "stdout",
     "output_type": "stream",
     "text": [
      "C:\\Users\\User\\msc_project\\sus-optimization\\tissue-to-MRproperty\n"
     ]
    },
    {
     "name": "stderr",
     "output_type": "stream",
     "text": [
      "fatal: destination path 'tissue-to-MRproperty' already exists and is not an empty directory.\n"
     ]
    },
    {
     "name": "stdout",
     "output_type": "stream",
     "text": [
      "Your branch is up to date with 'origin/dev/fine-tune'.\n"
     ]
    },
    {
     "name": "stderr",
     "output_type": "stream",
     "text": [
      "Already on 'dev/fine-tune'\n"
     ]
    },
    {
     "name": "stdout",
     "output_type": "stream",
     "text": [
      "Updating 8f8b622..70a380e\n",
      "Fast-forward\n",
      " cli/tissue_to_mr.py | 2 +-\n",
      " 1 file changed, 1 insertion(+), 1 deletion(-)\n"
     ]
    },
    {
     "name": "stderr",
     "output_type": "stream",
     "text": [
      "From https://github.com/shimming-toolbox/tissue-to-MRproperty\n",
      "   8f8b622..70a380e  dev/fine-tune -> origin/dev/fine-tune\n"
     ]
    },
    {
     "name": "stdout",
     "output_type": "stream",
     "text": [
      "Processing c:\\users\\user\\msc_project\\sus-optimization\\tissue-to-mrproperty\n",
      "  Preparing metadata (setup.py): started\n",
      "  Preparing metadata (setup.py): finished with status 'done'\n",
      "Requirement already satisfied: click in c:\\users\\user\\miniconda3\\envs\\chi_opt\\lib\\site-packages (from tissue-to-MRproperty==0.0.0) (8.1.7)\n",
      "Requirement already satisfied: pandas in c:\\users\\user\\miniconda3\\envs\\chi_opt\\lib\\site-packages (from tissue-to-MRproperty==0.0.0) (2.2.2)\n",
      "Requirement already satisfied: nibabel in c:\\users\\user\\miniconda3\\envs\\chi_opt\\lib\\site-packages (from tissue-to-MRproperty==0.0.0) (5.2.1)\n",
      "Requirement already satisfied: nilearn in c:\\users\\user\\miniconda3\\envs\\chi_opt\\lib\\site-packages (from tissue-to-MRproperty==0.0.0) (0.10.4)\n",
      "Requirement already satisfied: numpy in c:\\users\\user\\miniconda3\\envs\\chi_opt\\lib\\site-packages (from tissue-to-MRproperty==0.0.0) (1.26.4)\n",
      "Requirement already satisfied: matplotlib in c:\\users\\user\\miniconda3\\envs\\chi_opt\\lib\\site-packages (from tissue-to-MRproperty==0.0.0) (3.8.4)\n",
      "Requirement already satisfied: ipykernel in c:\\users\\user\\miniconda3\\envs\\chi_opt\\lib\\site-packages (from tissue-to-MRproperty==0.0.0) (6.28.0)\n",
      "Requirement already satisfied: ipython in c:\\users\\user\\miniconda3\\envs\\chi_opt\\lib\\site-packages (from tissue-to-MRproperty==0.0.0) (8.25.0)\n",
      "Requirement already satisfied: treelib in c:\\users\\user\\miniconda3\\envs\\chi_opt\\lib\\site-packages (from tissue-to-MRproperty==0.0.0) (1.6.1)\n",
      "Requirement already satisfied: pytest in c:\\users\\user\\miniconda3\\envs\\chi_opt\\lib\\site-packages (from tissue-to-MRproperty==0.0.0) (7.4.4)\n",
      "Requirement already satisfied: jupyterlab in c:\\users\\user\\miniconda3\\envs\\chi_opt\\lib\\site-packages (from tissue-to-MRproperty==0.0.0) (4.0.11)\n",
      "Requirement already satisfied: scipy in c:\\users\\user\\miniconda3\\envs\\chi_opt\\lib\\site-packages (from tissue-to-MRproperty==0.0.0) (1.13.1)\n",
      "Requirement already satisfied: scikit-image in c:\\users\\user\\miniconda3\\envs\\chi_opt\\lib\\site-packages (from tissue-to-MRproperty==0.0.0) (0.24.0)\n",
      "Requirement already satisfied: colorama in c:\\users\\user\\miniconda3\\envs\\chi_opt\\lib\\site-packages (from click->tissue-to-MRproperty==0.0.0) (0.4.6)\n",
      "Requirement already satisfied: comm>=0.1.1 in c:\\users\\user\\miniconda3\\envs\\chi_opt\\lib\\site-packages (from ipykernel->tissue-to-MRproperty==0.0.0) (0.2.1)\n",
      "Requirement already satisfied: debugpy>=1.6.5 in c:\\users\\user\\miniconda3\\envs\\chi_opt\\lib\\site-packages (from ipykernel->tissue-to-MRproperty==0.0.0) (1.6.7)\n",
      "Requirement already satisfied: jupyter-client>=6.1.12 in c:\\users\\user\\miniconda3\\envs\\chi_opt\\lib\\site-packages (from ipykernel->tissue-to-MRproperty==0.0.0) (8.6.0)\n",
      "Requirement already satisfied: jupyter-core!=5.0.*,>=4.12 in c:\\users\\user\\miniconda3\\envs\\chi_opt\\lib\\site-packages (from ipykernel->tissue-to-MRproperty==0.0.0) (5.7.2)\n",
      "Requirement already satisfied: matplotlib-inline>=0.1 in c:\\users\\user\\miniconda3\\envs\\chi_opt\\lib\\site-packages (from ipykernel->tissue-to-MRproperty==0.0.0) (0.1.6)\n",
      "Requirement already satisfied: nest-asyncio in c:\\users\\user\\miniconda3\\envs\\chi_opt\\lib\\site-packages (from ipykernel->tissue-to-MRproperty==0.0.0) (1.6.0)\n",
      "Requirement already satisfied: packaging in c:\\users\\user\\miniconda3\\envs\\chi_opt\\lib\\site-packages (from ipykernel->tissue-to-MRproperty==0.0.0) (24.1)\n",
      "Requirement already satisfied: psutil in c:\\users\\user\\miniconda3\\envs\\chi_opt\\lib\\site-packages (from ipykernel->tissue-to-MRproperty==0.0.0) (5.9.0)\n",
      "Requirement already satisfied: pyzmq>=24 in c:\\users\\user\\miniconda3\\envs\\chi_opt\\lib\\site-packages (from ipykernel->tissue-to-MRproperty==0.0.0) (25.1.2)\n",
      "Requirement already satisfied: tornado>=6.1 in c:\\users\\user\\miniconda3\\envs\\chi_opt\\lib\\site-packages (from ipykernel->tissue-to-MRproperty==0.0.0) (6.4.1)\n",
      "Requirement already satisfied: traitlets>=5.4.0 in c:\\users\\user\\miniconda3\\envs\\chi_opt\\lib\\site-packages (from ipykernel->tissue-to-MRproperty==0.0.0) (5.14.3)\n",
      "Requirement already satisfied: decorator in c:\\users\\user\\miniconda3\\envs\\chi_opt\\lib\\site-packages (from ipython->tissue-to-MRproperty==0.0.0) (5.1.1)\n",
      "Requirement already satisfied: jedi>=0.16 in c:\\users\\user\\miniconda3\\envs\\chi_opt\\lib\\site-packages (from ipython->tissue-to-MRproperty==0.0.0) (0.18.1)\n",
      "Requirement already satisfied: prompt-toolkit<3.1.0,>=3.0.41 in c:\\users\\user\\miniconda3\\envs\\chi_opt\\lib\\site-packages (from ipython->tissue-to-MRproperty==0.0.0) (3.0.43)\n",
      "Requirement already satisfied: pygments>=2.4.0 in c:\\users\\user\\miniconda3\\envs\\chi_opt\\lib\\site-packages (from ipython->tissue-to-MRproperty==0.0.0) (2.15.1)\n",
      "Requirement already satisfied: stack-data in c:\\users\\user\\miniconda3\\envs\\chi_opt\\lib\\site-packages (from ipython->tissue-to-MRproperty==0.0.0) (0.2.0)\n",
      "Requirement already satisfied: async-lru>=1.0.0 in c:\\users\\user\\miniconda3\\envs\\chi_opt\\lib\\site-packages (from jupyterlab->tissue-to-MRproperty==0.0.0) (2.0.4)\n",
      "Requirement already satisfied: jinja2>=3.0.3 in c:\\users\\user\\miniconda3\\envs\\chi_opt\\lib\\site-packages (from jupyterlab->tissue-to-MRproperty==0.0.0) (3.1.4)\n",
      "Requirement already satisfied: jupyter-lsp>=2.0.0 in c:\\users\\user\\miniconda3\\envs\\chi_opt\\lib\\site-packages (from jupyterlab->tissue-to-MRproperty==0.0.0) (2.2.0)\n",
      "Requirement already satisfied: jupyter-server<3,>=2.4.0 in c:\\users\\user\\miniconda3\\envs\\chi_opt\\lib\\site-packages (from jupyterlab->tissue-to-MRproperty==0.0.0) (2.14.1)\n",
      "Requirement already satisfied: jupyterlab-server<3,>=2.19.0 in c:\\users\\user\\miniconda3\\envs\\chi_opt\\lib\\site-packages (from jupyterlab->tissue-to-MRproperty==0.0.0) (2.25.1)\n",
      "Requirement already satisfied: notebook-shim>=0.2 in c:\\users\\user\\miniconda3\\envs\\chi_opt\\lib\\site-packages (from jupyterlab->tissue-to-MRproperty==0.0.0) (0.2.3)\n",
      "Requirement already satisfied: contourpy>=1.0.1 in c:\\users\\user\\miniconda3\\envs\\chi_opt\\lib\\site-packages (from matplotlib->tissue-to-MRproperty==0.0.0) (1.2.0)\n",
      "Requirement already satisfied: cycler>=0.10 in c:\\users\\user\\miniconda3\\envs\\chi_opt\\lib\\site-packages (from matplotlib->tissue-to-MRproperty==0.0.0) (0.11.0)\n",
      "Requirement already satisfied: fonttools>=4.22.0 in c:\\users\\user\\miniconda3\\envs\\chi_opt\\lib\\site-packages (from matplotlib->tissue-to-MRproperty==0.0.0) (4.51.0)\n",
      "Requirement already satisfied: kiwisolver>=1.3.1 in c:\\users\\user\\miniconda3\\envs\\chi_opt\\lib\\site-packages (from matplotlib->tissue-to-MRproperty==0.0.0) (1.4.4)\n",
      "Requirement already satisfied: pillow>=8 in c:\\users\\user\\miniconda3\\envs\\chi_opt\\lib\\site-packages (from matplotlib->tissue-to-MRproperty==0.0.0) (10.3.0)\n",
      "Requirement already satisfied: pyparsing>=2.3.1 in c:\\users\\user\\miniconda3\\envs\\chi_opt\\lib\\site-packages (from matplotlib->tissue-to-MRproperty==0.0.0) (3.0.9)\n",
      "Requirement already satisfied: python-dateutil>=2.7 in c:\\users\\user\\miniconda3\\envs\\chi_opt\\lib\\site-packages (from matplotlib->tissue-to-MRproperty==0.0.0) (2.9.0.post0)\n",
      "Requirement already satisfied: joblib>=1.0.0 in c:\\users\\user\\miniconda3\\envs\\chi_opt\\lib\\site-packages (from nilearn->tissue-to-MRproperty==0.0.0) (1.4.2)\n",
      "Requirement already satisfied: lxml in c:\\users\\user\\miniconda3\\envs\\chi_opt\\lib\\site-packages (from nilearn->tissue-to-MRproperty==0.0.0) (5.2.1)\n",
      "Requirement already satisfied: requests>=2.25.0 in c:\\users\\user\\miniconda3\\envs\\chi_opt\\lib\\site-packages (from nilearn->tissue-to-MRproperty==0.0.0) (2.32.2)\n",
      "Requirement already satisfied: scikit-learn>=1.0.0 in c:\\users\\user\\miniconda3\\envs\\chi_opt\\lib\\site-packages (from nilearn->tissue-to-MRproperty==0.0.0) (1.4.2)\n",
      "Requirement already satisfied: pytz>=2020.1 in c:\\users\\user\\miniconda3\\envs\\chi_opt\\lib\\site-packages (from pandas->tissue-to-MRproperty==0.0.0) (2024.1)\n",
      "Requirement already satisfied: tzdata>=2022.7 in c:\\users\\user\\miniconda3\\envs\\chi_opt\\lib\\site-packages (from pandas->tissue-to-MRproperty==0.0.0) (2023.3)\n",
      "Requirement already satisfied: iniconfig in c:\\users\\user\\miniconda3\\envs\\chi_opt\\lib\\site-packages (from pytest->tissue-to-MRproperty==0.0.0) (1.1.1)\n",
      "Requirement already satisfied: pluggy<2.0,>=0.12 in c:\\users\\user\\miniconda3\\envs\\chi_opt\\lib\\site-packages (from pytest->tissue-to-MRproperty==0.0.0) (1.0.0)\n",
      "Requirement already satisfied: networkx>=2.8 in c:\\users\\user\\miniconda3\\envs\\chi_opt\\lib\\site-packages (from scikit-image->tissue-to-MRproperty==0.0.0) (3.3)\n",
      "Requirement already satisfied: imageio>=2.33 in c:\\users\\user\\miniconda3\\envs\\chi_opt\\lib\\site-packages (from scikit-image->tissue-to-MRproperty==0.0.0) (2.34.2)\n",
      "Requirement already satisfied: tifffile>=2022.8.12 in c:\\users\\user\\miniconda3\\envs\\chi_opt\\lib\\site-packages (from scikit-image->tissue-to-MRproperty==0.0.0) (2024.7.24)\n",
      "Requirement already satisfied: lazy-loader>=0.4 in c:\\users\\user\\miniconda3\\envs\\chi_opt\\lib\\site-packages (from scikit-image->tissue-to-MRproperty==0.0.0) (0.4)\n",
      "Requirement already satisfied: future in c:\\users\\user\\miniconda3\\envs\\chi_opt\\lib\\site-packages (from treelib->tissue-to-MRproperty==0.0.0) (1.0.0)\n",
      "Requirement already satisfied: parso<0.9.0,>=0.8.0 in c:\\users\\user\\miniconda3\\envs\\chi_opt\\lib\\site-packages (from jedi>=0.16->ipython->tissue-to-MRproperty==0.0.0) (0.8.3)\n",
      "Requirement already satisfied: MarkupSafe>=2.0 in c:\\users\\user\\miniconda3\\envs\\chi_opt\\lib\\site-packages (from jinja2>=3.0.3->jupyterlab->tissue-to-MRproperty==0.0.0) (2.1.3)\n",
      "Requirement already satisfied: platformdirs>=2.5 in c:\\users\\user\\miniconda3\\envs\\chi_opt\\lib\\site-packages (from jupyter-core!=5.0.*,>=4.12->ipykernel->tissue-to-MRproperty==0.0.0) (3.10.0)\n",
      "Requirement already satisfied: pywin32>=300 in c:\\users\\user\\miniconda3\\envs\\chi_opt\\lib\\site-packages (from jupyter-core!=5.0.*,>=4.12->ipykernel->tissue-to-MRproperty==0.0.0) (305.1)\n",
      "Requirement already satisfied: anyio>=3.1.0 in c:\\users\\user\\miniconda3\\envs\\chi_opt\\lib\\site-packages (from jupyter-server<3,>=2.4.0->jupyterlab->tissue-to-MRproperty==0.0.0) (4.2.0)\n",
      "Requirement already satisfied: argon2-cffi>=21.1 in c:\\users\\user\\miniconda3\\envs\\chi_opt\\lib\\site-packages (from jupyter-server<3,>=2.4.0->jupyterlab->tissue-to-MRproperty==0.0.0) (21.3.0)\n",
      "Requirement already satisfied: jupyter-events>=0.9.0 in c:\\users\\user\\miniconda3\\envs\\chi_opt\\lib\\site-packages (from jupyter-server<3,>=2.4.0->jupyterlab->tissue-to-MRproperty==0.0.0) (0.10.0)\n",
      "Requirement already satisfied: jupyter-server-terminals>=0.4.4 in c:\\users\\user\\miniconda3\\envs\\chi_opt\\lib\\site-packages (from jupyter-server<3,>=2.4.0->jupyterlab->tissue-to-MRproperty==0.0.0) (0.4.4)\n",
      "Requirement already satisfied: nbconvert>=6.4.4 in c:\\users\\user\\miniconda3\\envs\\chi_opt\\lib\\site-packages (from jupyter-server<3,>=2.4.0->jupyterlab->tissue-to-MRproperty==0.0.0) (7.10.0)\n",
      "Requirement already satisfied: nbformat>=5.3.0 in c:\\users\\user\\miniconda3\\envs\\chi_opt\\lib\\site-packages (from jupyter-server<3,>=2.4.0->jupyterlab->tissue-to-MRproperty==0.0.0) (5.9.2)\n",
      "Requirement already satisfied: overrides>=5.0 in c:\\users\\user\\miniconda3\\envs\\chi_opt\\lib\\site-packages (from jupyter-server<3,>=2.4.0->jupyterlab->tissue-to-MRproperty==0.0.0) (7.4.0)\n",
      "Requirement already satisfied: prometheus-client>=0.9 in c:\\users\\user\\miniconda3\\envs\\chi_opt\\lib\\site-packages (from jupyter-server<3,>=2.4.0->jupyterlab->tissue-to-MRproperty==0.0.0) (0.14.1)\n",
      "Requirement already satisfied: pywinpty>=2.0.1 in c:\\users\\user\\miniconda3\\envs\\chi_opt\\lib\\site-packages (from jupyter-server<3,>=2.4.0->jupyterlab->tissue-to-MRproperty==0.0.0) (2.0.10)\n",
      "Requirement already satisfied: send2trash>=1.8.2 in c:\\users\\user\\miniconda3\\envs\\chi_opt\\lib\\site-packages (from jupyter-server<3,>=2.4.0->jupyterlab->tissue-to-MRproperty==0.0.0) (1.8.2)\n",
      "Requirement already satisfied: terminado>=0.8.3 in c:\\users\\user\\miniconda3\\envs\\chi_opt\\lib\\site-packages (from jupyter-server<3,>=2.4.0->jupyterlab->tissue-to-MRproperty==0.0.0) (0.17.1)\n",
      "Requirement already satisfied: websocket-client>=1.7 in c:\\users\\user\\miniconda3\\envs\\chi_opt\\lib\\site-packages (from jupyter-server<3,>=2.4.0->jupyterlab->tissue-to-MRproperty==0.0.0) (1.8.0)\n",
      "Requirement already satisfied: babel>=2.10 in c:\\users\\user\\miniconda3\\envs\\chi_opt\\lib\\site-packages (from jupyterlab-server<3,>=2.19.0->jupyterlab->tissue-to-MRproperty==0.0.0) (2.11.0)\n",
      "Requirement already satisfied: json5>=0.9.0 in c:\\users\\user\\miniconda3\\envs\\chi_opt\\lib\\site-packages (from jupyterlab-server<3,>=2.19.0->jupyterlab->tissue-to-MRproperty==0.0.0) (0.9.6)\n",
      "Requirement already satisfied: jsonschema>=4.18.0 in c:\\users\\user\\miniconda3\\envs\\chi_opt\\lib\\site-packages (from jupyterlab-server<3,>=2.19.0->jupyterlab->tissue-to-MRproperty==0.0.0) (4.19.2)\n",
      "Requirement already satisfied: wcwidth in c:\\users\\user\\miniconda3\\envs\\chi_opt\\lib\\site-packages (from prompt-toolkit<3.1.0,>=3.0.41->ipython->tissue-to-MRproperty==0.0.0) (0.2.5)\n",
      "Requirement already satisfied: six>=1.5 in c:\\users\\user\\miniconda3\\envs\\chi_opt\\lib\\site-packages (from python-dateutil>=2.7->matplotlib->tissue-to-MRproperty==0.0.0) (1.16.0)\n",
      "Requirement already satisfied: charset-normalizer<4,>=2 in c:\\users\\user\\miniconda3\\envs\\chi_opt\\lib\\site-packages (from requests>=2.25.0->nilearn->tissue-to-MRproperty==0.0.0) (2.0.4)\n",
      "Requirement already satisfied: idna<4,>=2.5 in c:\\users\\user\\miniconda3\\envs\\chi_opt\\lib\\site-packages (from requests>=2.25.0->nilearn->tissue-to-MRproperty==0.0.0) (3.7)\n",
      "Requirement already satisfied: urllib3<3,>=1.21.1 in c:\\users\\user\\miniconda3\\envs\\chi_opt\\lib\\site-packages (from requests>=2.25.0->nilearn->tissue-to-MRproperty==0.0.0) (2.2.2)\n",
      "Requirement already satisfied: certifi>=2017.4.17 in c:\\users\\user\\miniconda3\\envs\\chi_opt\\lib\\site-packages (from requests>=2.25.0->nilearn->tissue-to-MRproperty==0.0.0) (2024.7.4)\n",
      "Requirement already satisfied: threadpoolctl>=2.0.0 in c:\\users\\user\\miniconda3\\envs\\chi_opt\\lib\\site-packages (from scikit-learn>=1.0.0->nilearn->tissue-to-MRproperty==0.0.0) (3.5.0)\n",
      "Requirement already satisfied: executing in c:\\users\\user\\miniconda3\\envs\\chi_opt\\lib\\site-packages (from stack-data->ipython->tissue-to-MRproperty==0.0.0) (0.8.3)\n",
      "Requirement already satisfied: asttokens in c:\\users\\user\\miniconda3\\envs\\chi_opt\\lib\\site-packages (from stack-data->ipython->tissue-to-MRproperty==0.0.0) (2.0.5)\n",
      "Requirement already satisfied: pure-eval in c:\\users\\user\\miniconda3\\envs\\chi_opt\\lib\\site-packages (from stack-data->ipython->tissue-to-MRproperty==0.0.0) (0.2.2)\n",
      "Requirement already satisfied: sniffio>=1.1 in c:\\users\\user\\miniconda3\\envs\\chi_opt\\lib\\site-packages (from anyio>=3.1.0->jupyter-server<3,>=2.4.0->jupyterlab->tissue-to-MRproperty==0.0.0) (1.3.0)\n",
      "Requirement already satisfied: argon2-cffi-bindings in c:\\users\\user\\miniconda3\\envs\\chi_opt\\lib\\site-packages (from argon2-cffi>=21.1->jupyter-server<3,>=2.4.0->jupyterlab->tissue-to-MRproperty==0.0.0) (21.2.0)\n",
      "Requirement already satisfied: attrs>=22.2.0 in c:\\users\\user\\miniconda3\\envs\\chi_opt\\lib\\site-packages (from jsonschema>=4.18.0->jupyterlab-server<3,>=2.19.0->jupyterlab->tissue-to-MRproperty==0.0.0) (23.1.0)\n",
      "Requirement already satisfied: jsonschema-specifications>=2023.03.6 in c:\\users\\user\\miniconda3\\envs\\chi_opt\\lib\\site-packages (from jsonschema>=4.18.0->jupyterlab-server<3,>=2.19.0->jupyterlab->tissue-to-MRproperty==0.0.0) (2023.7.1)\n",
      "Requirement already satisfied: referencing>=0.28.4 in c:\\users\\user\\miniconda3\\envs\\chi_opt\\lib\\site-packages (from jsonschema>=4.18.0->jupyterlab-server<3,>=2.19.0->jupyterlab->tissue-to-MRproperty==0.0.0) (0.30.2)\n",
      "Requirement already satisfied: rpds-py>=0.7.1 in c:\\users\\user\\miniconda3\\envs\\chi_opt\\lib\\site-packages (from jsonschema>=4.18.0->jupyterlab-server<3,>=2.19.0->jupyterlab->tissue-to-MRproperty==0.0.0) (0.10.6)\n",
      "Requirement already satisfied: python-json-logger>=2.0.4 in c:\\users\\user\\miniconda3\\envs\\chi_opt\\lib\\site-packages (from jupyter-events>=0.9.0->jupyter-server<3,>=2.4.0->jupyterlab->tissue-to-MRproperty==0.0.0) (2.0.7)\n",
      "Requirement already satisfied: pyyaml>=5.3 in c:\\users\\user\\miniconda3\\envs\\chi_opt\\lib\\site-packages (from jupyter-events>=0.9.0->jupyter-server<3,>=2.4.0->jupyterlab->tissue-to-MRproperty==0.0.0) (6.0.1)\n",
      "Requirement already satisfied: rfc3339-validator in c:\\users\\user\\miniconda3\\envs\\chi_opt\\lib\\site-packages (from jupyter-events>=0.9.0->jupyter-server<3,>=2.4.0->jupyterlab->tissue-to-MRproperty==0.0.0) (0.1.4)\n",
      "Requirement already satisfied: rfc3986-validator>=0.1.1 in c:\\users\\user\\miniconda3\\envs\\chi_opt\\lib\\site-packages (from jupyter-events>=0.9.0->jupyter-server<3,>=2.4.0->jupyterlab->tissue-to-MRproperty==0.0.0) (0.1.1)\n",
      "Requirement already satisfied: beautifulsoup4 in c:\\users\\user\\miniconda3\\envs\\chi_opt\\lib\\site-packages (from nbconvert>=6.4.4->jupyter-server<3,>=2.4.0->jupyterlab->tissue-to-MRproperty==0.0.0) (4.12.3)\n",
      "Requirement already satisfied: bleach!=5.0.0 in c:\\users\\user\\miniconda3\\envs\\chi_opt\\lib\\site-packages (from nbconvert>=6.4.4->jupyter-server<3,>=2.4.0->jupyterlab->tissue-to-MRproperty==0.0.0) (4.1.0)\n",
      "Requirement already satisfied: defusedxml in c:\\users\\user\\miniconda3\\envs\\chi_opt\\lib\\site-packages (from nbconvert>=6.4.4->jupyter-server<3,>=2.4.0->jupyterlab->tissue-to-MRproperty==0.0.0) (0.7.1)\n",
      "Requirement already satisfied: jupyterlab-pygments in c:\\users\\user\\miniconda3\\envs\\chi_opt\\lib\\site-packages (from nbconvert>=6.4.4->jupyter-server<3,>=2.4.0->jupyterlab->tissue-to-MRproperty==0.0.0) (0.1.2)\n",
      "Requirement already satisfied: mistune<4,>=2.0.3 in c:\\users\\user\\miniconda3\\envs\\chi_opt\\lib\\site-packages (from nbconvert>=6.4.4->jupyter-server<3,>=2.4.0->jupyterlab->tissue-to-MRproperty==0.0.0) (2.0.4)\n",
      "Requirement already satisfied: nbclient>=0.5.0 in c:\\users\\user\\miniconda3\\envs\\chi_opt\\lib\\site-packages (from nbconvert>=6.4.4->jupyter-server<3,>=2.4.0->jupyterlab->tissue-to-MRproperty==0.0.0) (0.8.0)\n",
      "Requirement already satisfied: pandocfilters>=1.4.1 in c:\\users\\user\\miniconda3\\envs\\chi_opt\\lib\\site-packages (from nbconvert>=6.4.4->jupyter-server<3,>=2.4.0->jupyterlab->tissue-to-MRproperty==0.0.0) (1.5.0)\n",
      "Requirement already satisfied: tinycss2 in c:\\users\\user\\miniconda3\\envs\\chi_opt\\lib\\site-packages (from nbconvert>=6.4.4->jupyter-server<3,>=2.4.0->jupyterlab->tissue-to-MRproperty==0.0.0) (1.2.1)\n",
      "Requirement already satisfied: fastjsonschema in c:\\users\\user\\miniconda3\\envs\\chi_opt\\lib\\site-packages (from nbformat>=5.3.0->jupyter-server<3,>=2.4.0->jupyterlab->tissue-to-MRproperty==0.0.0) (2.16.2)\n",
      "Requirement already satisfied: webencodings in c:\\users\\user\\miniconda3\\envs\\chi_opt\\lib\\site-packages (from bleach!=5.0.0->nbconvert>=6.4.4->jupyter-server<3,>=2.4.0->jupyterlab->tissue-to-MRproperty==0.0.0) (0.5.1)\n",
      "Requirement already satisfied: fqdn in c:\\users\\user\\miniconda3\\envs\\chi_opt\\lib\\site-packages (from jsonschema[format-nongpl]>=4.18.0->jupyter-events>=0.9.0->jupyter-server<3,>=2.4.0->jupyterlab->tissue-to-MRproperty==0.0.0) (1.5.1)\n",
      "Requirement already satisfied: isoduration in c:\\users\\user\\miniconda3\\envs\\chi_opt\\lib\\site-packages (from jsonschema[format-nongpl]>=4.18.0->jupyter-events>=0.9.0->jupyter-server<3,>=2.4.0->jupyterlab->tissue-to-MRproperty==0.0.0) (20.11.0)\n",
      "Requirement already satisfied: jsonpointer>1.13 in c:\\users\\user\\miniconda3\\envs\\chi_opt\\lib\\site-packages (from jsonschema[format-nongpl]>=4.18.0->jupyter-events>=0.9.0->jupyter-server<3,>=2.4.0->jupyterlab->tissue-to-MRproperty==0.0.0) (3.0.0)\n",
      "Requirement already satisfied: uri-template in c:\\users\\user\\miniconda3\\envs\\chi_opt\\lib\\site-packages (from jsonschema[format-nongpl]>=4.18.0->jupyter-events>=0.9.0->jupyter-server<3,>=2.4.0->jupyterlab->tissue-to-MRproperty==0.0.0) (1.3.0)\n",
      "Requirement already satisfied: webcolors>=1.11 in c:\\users\\user\\miniconda3\\envs\\chi_opt\\lib\\site-packages (from jsonschema[format-nongpl]>=4.18.0->jupyter-events>=0.9.0->jupyter-server<3,>=2.4.0->jupyterlab->tissue-to-MRproperty==0.0.0) (24.6.0)\n",
      "Requirement already satisfied: cffi>=1.0.1 in c:\\users\\user\\miniconda3\\envs\\chi_opt\\lib\\site-packages (from argon2-cffi-bindings->argon2-cffi>=21.1->jupyter-server<3,>=2.4.0->jupyterlab->tissue-to-MRproperty==0.0.0) (1.16.0)\n",
      "Requirement already satisfied: soupsieve>1.2 in c:\\users\\user\\miniconda3\\envs\\chi_opt\\lib\\site-packages (from beautifulsoup4->nbconvert>=6.4.4->jupyter-server<3,>=2.4.0->jupyterlab->tissue-to-MRproperty==0.0.0) (2.5)\n",
      "Requirement already satisfied: pycparser in c:\\users\\user\\miniconda3\\envs\\chi_opt\\lib\\site-packages (from cffi>=1.0.1->argon2-cffi-bindings->argon2-cffi>=21.1->jupyter-server<3,>=2.4.0->jupyterlab->tissue-to-MRproperty==0.0.0) (2.21)\n",
      "Requirement already satisfied: arrow>=0.15.0 in c:\\users\\user\\miniconda3\\envs\\chi_opt\\lib\\site-packages (from isoduration->jsonschema[format-nongpl]>=4.18.0->jupyter-events>=0.9.0->jupyter-server<3,>=2.4.0->jupyterlab->tissue-to-MRproperty==0.0.0) (1.3.0)\n",
      "Requirement already satisfied: types-python-dateutil>=2.8.10 in c:\\users\\user\\miniconda3\\envs\\chi_opt\\lib\\site-packages (from arrow>=0.15.0->isoduration->jsonschema[format-nongpl]>=4.18.0->jupyter-events>=0.9.0->jupyter-server<3,>=2.4.0->jupyterlab->tissue-to-MRproperty==0.0.0) (2.9.0.20240316)\n",
      "Building wheels for collected packages: tissue-to-MRproperty\n",
      "  Building wheel for tissue-to-MRproperty (setup.py): started\n",
      "  Building wheel for tissue-to-MRproperty (setup.py): finished with status 'done'\n",
      "  Created wheel for tissue-to-MRproperty: filename=tissue_to_MRproperty-0.0.0-py3-none-any.whl size=34012 sha256=b9f6c1e644d6e3b674280121b202fc5f32309b798717aeaa122c5e3171129321\n",
      "  Stored in directory: c:\\users\\user\\appdata\\local\\pip\\cache\\wheels\\f5\\8f\\7e\\3c90e46fffbcb01e99bc64ab2b978bee4f21c31610a60c5b4f\n",
      "Successfully built tissue-to-MRproperty\n",
      "Installing collected packages: tissue-to-MRproperty\n",
      "  Attempting uninstall: tissue-to-MRproperty\n",
      "    Found existing installation: tissue-to-MRproperty 0.0.0\n",
      "    Uninstalling tissue-to-MRproperty-0.0.0:\n",
      "      Successfully uninstalled tissue-to-MRproperty-0.0.0\n",
      "Successfully installed tissue-to-MRproperty-0.0.0\n",
      "Note: you may need to restart the kernel to use updated packages.\n",
      "C:\\Users\\User\\msc_project\\sus-optimization\n"
     ]
    }
   ],
   "source": [
    "!git clone https://github.com/shimming-toolbox/tissue-to-MRproperty.git\n",
    "%cd tissue-to-MRproperty\n",
    "!git checkout dev/fine-tune\n",
    "!git pull\n",
    "%pip install .\n",
    "%cd {home_path}"
   ]
  },
  {
   "cell_type": "code",
   "execution_count": 42,
   "id": "6f627459",
   "metadata": {},
   "outputs": [
    {
     "name": "stdout",
     "output_type": "stream",
     "text": [
      "Usage: tissue_to_MR [OPTIONS]\n",
      "\n",
      "Options:\n",
      "  -i, --input PATH                Input segmentations distribution, supported\n",
      "                                  extensions: .nii, .nii.gz  [required]\n",
      "  -s, --segtool [TotalSeg_CT|TotalSeg_MRI|ProCord_MRI|charles|compare_fm]\n",
      "                                  State what segmentator was used  [required]\n",
      "  -v, --version [v1|v2|mod0|mod1|mod2|dyn|mod_PAM50]\n",
      "                                  Select the version of your segmentation file\n",
      "                                  [required]\n",
      "  -t, --type [t2s|sus|pd|t1|t2]   Please choose MR property to convert to\n",
      "                                  [required]\n",
      "  -g, --gauss [0|1]               Set to 1 to use Gaussian distribution\n",
      "  -x, --chi FLOAT                 Used to define new chi value for FM\n",
      "                                  comparison approach\n",
      "  -o, --output PATH               By default it saves the chimap to the output\n",
      "                                  folder\n",
      "  --help                          Show this message and exit.\n"
     ]
    }
   ],
   "source": [
    "!tissue_to_mr --help"
   ]
  },
  {
   "cell_type": "code",
   "execution_count": 43,
   "id": "e593eaf5",
   "metadata": {},
   "outputs": [
    {
     "name": "stdout",
     "output_type": "stream",
     "text": [
      "C:\\Users\\User\\msc_project\\sus-optimization\n"
     ]
    }
   ],
   "source": [
    "%cd {home_path}"
   ]
  },
  {
   "cell_type": "code",
   "execution_count": 44,
   "id": "1d56601d",
   "metadata": {},
   "outputs": [
    {
     "name": "stdout",
     "output_type": "stream",
     "text": [
      "README.md\n",
      "data\n",
      "evas_code.ipynb\n",
      "output\n",
      "requirements.txt\n",
      "simulation\n",
      "soothsayer.ipynb\n",
      "sus_optimization.ipynb\n",
      "susceptibility-to-fieldmap-fft\n",
      "tissue-to-MRproperty\n"
     ]
    }
   ],
   "source": [
    "!ls"
   ]
  },
  {
   "cell_type": "markdown",
   "id": "d3b528c1",
   "metadata": {},
   "source": [
    "# Sebastian Code "
   ]
  },
  {
   "cell_type": "code",
   "execution_count": 45,
   "id": "2eabfe6d",
   "metadata": {},
   "outputs": [],
   "source": [
    "import subprocess\n",
    "\n",
    "def seg_to_chi(seg_file,chi,output_file):\n",
    "\n",
    "    # Using our command to generate new chi map\n",
    "\n",
    "    commando = [\n",
    "    \"tissue_to_mr\",\n",
    "    \"-i\", seg_file,\n",
    "    \"-t\", \"sus\",\n",
    "    \"-s\", \"compare_fm\",\n",
    "    \"-v\", \"dyn\",\n",
    "    \"-x\", str(chi),\n",
    "    \"-o\", output_file\n",
    "]\n",
    "\n",
    "    # Run the command and capture output\n",
    "    result = subprocess.run(commando, capture_output=True, text=True)\n",
    "\n",
    "    # Check for errors\n",
    "    if result.returncode != 0:\n",
    "        print(\"Error occurred:\", result.stderr)\n",
    "    else:\n",
    "        print(\"New chi map with internal air set to:\", chi)\n",
    "\n",
    "def chi_to_fm_ppm(input_file, output_file):\n",
    "\n",
    "    #Using a custom command for dB0 simulation\n",
    "\n",
    "    command = [\n",
    "    \"compute_fieldmap\",\n",
    "    \"-i\", input_file,\n",
    "    \"-o\", output_file,\n",
    "    \"-b\", \"50\",\n",
    "    \"-m\", \"b0SimISMRM\"\n",
    "    ]\n",
    "\n",
    "    # Run the command and capture output\n",
    "    result = subprocess.run(command, capture_output=True, text=True)\n",
    "    \n",
    "    # Check for errors\n",
    "    if result.returncode != 0:\n",
    "        print(\"Error occurred:\", result.stderr)\n",
    "    else:\n",
    "        print(\"FM created successfully:\", result.stdout)\n"
   ]
  },
  {
   "cell_type": "code",
   "execution_count": 46,
   "id": "83302449",
   "metadata": {},
   "outputs": [],
   "source": [
    "# File location variable designation:\n",
    "# Suggestion: put the final files in the data folder under this repository \n",
    "path_labels = 'data/crop_ISMRM/db0_030_segmentations_cropped_ISRMRM.nii.gz'\n",
    "path_chimap = 'data/crop_ISMRM/db0_030_wb_chimap_crop_ISMRM.nii.gz'\n",
    "path_fm_Hz = 'data/crop_ISMRM/B0_cropped_ISMRM.nii.gz'\n",
    "chi = 43.38\n",
    "name_chi = str(chi).replace(\".\",\"_\")\n",
    "outpath_chimap = f\"testing_converter_{name_chi}.nii.gz\""
   ]
  },
  {
   "cell_type": "code",
   "execution_count": 47,
   "id": "bffe1387",
   "metadata": {},
   "outputs": [
    {
     "data": {
      "text/plain": [
       "'testing_converter_43_38.nii.gz'"
      ]
     },
     "execution_count": 47,
     "metadata": {},
     "output_type": "execute_result"
    }
   ],
   "source": [
    "outpath_chimap"
   ]
  },
  {
   "cell_type": "code",
   "execution_count": 48,
   "id": "d70427cc",
   "metadata": {},
   "outputs": [
    {
     "name": "stdout",
     "output_type": "stream",
     "text": [
      "start\n",
      "Creating a new volume with sus values\n",
      "file loaded\n",
      "Grouping labels\n",
      "Using new susceptibility value for air:  43.38\n",
      "Changing susceptibility of air to:  43.38\n",
      "###\n",
      "air 0.35\n",
      "###\n",
      "fat -9.05\n",
      "###\n",
      "bone -11\n",
      "###\n",
      "inter_vert_discs -9.05\n",
      "###\n",
      "lungs 43.38\n",
      "###\n",
      "trachea 43.38\n",
      "###\n",
      "organ -9.05\n",
      "###\n",
      "muscle -9.05\n",
      "###\n",
      "sinus -2\n",
      "###\n",
      "spinal cord -9.055\n",
      "Checking pixel integrity\n",
      "Input has correct pixel integrity!\n",
      "Converting ...\n",
      "Piece-wise ON - custom out_fn\n",
      "Input segmented by: compare_fm, version: dyn\n",
      "Time elapsed:  29.676865100860596\n"
     ]
    }
   ],
   "source": [
    "# Testing seg to chi converter\n",
    "!tissue_to_mr -i {path_labels} -t sus -s compare_fm -v dyn -x {chi} -o {outpath_chimap}"
   ]
  },
  {
   "cell_type": "code",
   "execution_count": 19,
   "id": "0c0d01bd",
   "metadata": {},
   "outputs": [
    {
     "name": "stdout",
     "output_type": "stream",
     "text": [
      "Metrics extracted successfully: Start\n",
      "Susceptibility distribution loaded\n",
      "Fieldmap simulated\n",
      "Saving to NIfTI format\n",
      "End. Runtime: 29.95 seconds\n",
      "\n"
     ]
    }
   ],
   "source": [
    "# Testing chi to FM\n",
    "b = chi_to_fm_ppm(path_chimap,\"output/testing_fbf_function.nii.gz\")"
   ]
  }
 ],
 "metadata": {
  "kernelspec": {
   "display_name": "Python 3",
   "language": "python",
   "name": "python3"
  },
  "language_info": {
   "codemirror_mode": {
    "name": "ipython",
    "version": 3
   },
   "file_extension": ".py",
   "mimetype": "text/x-python",
   "name": "python",
   "nbconvert_exporter": "python",
   "pygments_lexer": "ipython3",
   "version": "3.12.4"
  }
 },
 "nbformat": 4,
 "nbformat_minor": 5
}
