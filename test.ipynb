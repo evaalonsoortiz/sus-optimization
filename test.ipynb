{
 "cells": [
  {
   "cell_type": "code",
   "execution_count": 3,
   "id": "d16207a5-7247-42eb-a576-22ceea8c3903",
   "metadata": {},
   "outputs": [],
   "source": [
    "%matplotlib inline\n",
    "import nibabel as nib\n",
    "import numpy as np\n",
    "from scipy import optimize\n",
    "import matplotlib.pyplot as plt\n",
    "import matplotlib.image as mpimg\n",
    "\n",
    "import sys\n",
    "sys.path.append('/Users/evaalonsoortiz/Documents/python/susceptibility-to-fieldmap-fft/')\n",
    "from functions import compute_fieldmap"
   ]
  },
  {
   "cell_type": "code",
   "execution_count": 4,
   "id": "64ae6e7d-6296-4453-a926-83cbac0d3ab3",
   "metadata": {},
   "outputs": [],
   "source": [
    "def f(x):\n",
    "\n",
    "    # load simulated susceptibility map in ppm\n",
    "    chi_img = nib.load(\"chi_map.nii.gz\")\n",
    "    chi_data = chi_img.get_fdata()\n",
    "    \n",
    "    # load simulated field map in Hz\n",
    "    b0meas_img = nib.load(\"fm_Hz.nii.gz\")\n",
    "    b0meas_data = b0meas_img.get_fdata()\n",
    "\n",
    "    # find indicies that have chi = -4.2, these voxels should correspond to the trachea (t) and lungs (l); ind_tl\n",
    "    ind_tl = np.where(chi_data == -4.2)\n",
    "\n",
    "    # assign variable \"x\" to indicies corresponding to trachea/lungs\n",
    "    chi_data[ind_tl] = x\n",
    "\n",
    "    # compute the field distribution in ppm for the chi_data distribution using the compute_bz function from the susceptibility-to-fieldmap-fft package\n",
    "    z =  compute_fieldmap.compute_bz(chi_data)\n",
    "    # convert field distribution from ppm to Hz (assuming 3T)\n",
    "    z = z*3*42.58 # deltaB0 [Hz] = deltaB0 [ppm] * B0 [T] * 1e-6 * 42.58*e6 [Hz/T]\n",
    "\n",
    "    return (np.linalg.norm(b0meas_data - z))"
   ]
  },
  {
   "cell_type": "code",
   "execution_count": 6,
   "id": "58c6c8ba-c57d-48b3-bfae-41da22c36cef",
   "metadata": {},
   "outputs": [
    {
     "name": "stdout",
     "output_type": "stream",
     "text": [
      "Optimization terminated successfully.\n",
      "         Current function value: 0.000000\n",
      "         Iterations: 28\n",
      "         Function evaluations: 56\n"
     ]
    },
    {
     "data": {
      "text/plain": [
       "-4.2"
      ]
     },
     "execution_count": 6,
     "metadata": {},
     "output_type": "execute_result"
    }
   ],
   "source": [
    "minimum = min_chi_tl = optimize.fmin(f, -4.2)\n",
    "minimum[0]"
   ]
  },
  {
   "cell_type": "code",
   "execution_count": null,
   "id": "d2c25bb6-11f0-4d3f-a582-ff9eed5e6ec7",
   "metadata": {},
   "outputs": [],
   "source": []
  }
 ],
 "metadata": {
  "kernelspec": {
   "display_name": "Python 3 (ipykernel)",
   "language": "python",
   "name": "python3"
  },
  "language_info": {
   "codemirror_mode": {
    "name": "ipython",
    "version": 3
   },
   "file_extension": ".py",
   "mimetype": "text/x-python",
   "name": "python",
   "nbconvert_exporter": "python",
   "pygments_lexer": "ipython3",
   "version": "3.9.12"
  }
 },
 "nbformat": 4,
 "nbformat_minor": 5
}
