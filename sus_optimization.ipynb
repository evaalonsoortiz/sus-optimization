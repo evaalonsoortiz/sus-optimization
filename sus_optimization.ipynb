{
 "cells": [
  {
   "cell_type": "code",
   "execution_count": 3,
   "id": "d16207a5-7247-42eb-a576-22ceea8c3903",
   "metadata": {},
   "outputs": [],
   "source": [
    "%matplotlib inline\n",
    "import nibabel as nib\n",
    "import numpy as np\n",
    "from scipy import optimize\n",
    "import matplotlib.pyplot as plt\n",
    "import matplotlib.image as mpimg\n",
    "\n",
    "import sys\n",
    "sys.path.append('/Users/evaalonsoortiz/Documents/python/susceptibility-to-fieldmap-fft/')\n",
    "from functions import compute_fieldmap"
   ]
  },
  {
   "cell_type": "code",
   "execution_count": 20,
   "id": "a737b875-042b-43da-9a63-93ced3187f25",
   "metadata": {},
   "outputs": [],
   "source": [
    "meas_fmap_path = \"../data/fm_Hz.nii.gz\"\n",
    "sim_chi_map_path = \"../data/chimap_crop_custom6.nii.gz\"\n",
    "ROIs_map_path = \"../data/mask_crop_gre_fov_body_plus_trachea.nii.gz\""
   ]
  },
  {
   "cell_type": "code",
   "execution_count": 21,
   "id": "64ae6e7d-6296-4453-a926-83cbac0d3ab3",
   "metadata": {},
   "outputs": [],
   "source": [
    "def f(x):\n",
    "\n",
    "    # load simulated susceptibility map in ppm\n",
    "    chi_img = nib.load(sim_chi_map_path)\n",
    "    chi_data = chi_img.get_fdata()\n",
    "    \n",
    "    # load segmentation labels map\n",
    "    ROIs_img = nib.load(ROIs_map_path)\n",
    "    ROIs_data = ROIs_img.get_fdata()\n",
    "    # find indicies that have label = 256, these voxels should correspond to the spinal cord\n",
    "    ind_sc = np.where(ROIs_data == 256)\n",
    "    # find indicies that have label = 7 or 8, these voxels should correspond to the trachea (t) and lungs (l); ind_tl\n",
    "    ind_tl = np.where((ROIs_data == 7) | (ROIs_data == 8))\n",
    "    \n",
    "    # load simulated field map in Hz\n",
    "    b0meas_img = nib.load(meas_fmap_path)\n",
    "    b0meas_data = b0meas_img.get_fdata()\n",
    "\n",
    "    # assign variable \"x\" to indicies corresponding to trachea/lungs\n",
    "    chi_data[ind_tl] = x\n",
    "\n",
    "    # compute the field distribution in ppm for the chi_data distribution using the compute_bz function from the susceptibility-to-fieldmap-fft package\n",
    "    z =  compute_fieldmap.compute_bz(chi_data)\n",
    "    # convert field distribution from ppm to Hz (assuming 3T)\n",
    "    z = z*3*42.58 # deltaB0 [Hz] = deltaB0 [ppm] * B0 [T] * 1e-6 * 42.58*e6 [Hz/T]\n",
    "\n",
    "    return (np.linalg.norm(b0meas_data[ind_sc] - z[ind_sc]))"
   ]
  },
  {
   "cell_type": "code",
   "execution_count": 22,
   "id": "58c6c8ba-c57d-48b3-bfae-41da22c36cef",
   "metadata": {},
   "outputs": [
    {
     "name": "stdout",
     "output_type": "stream",
     "text": [
      "Optimization terminated successfully.\n",
      "         Current function value: 1691.787615\n",
      "         Iterations: 23\n",
      "         Function evaluations: 46\n"
     ]
    },
    {
     "data": {
      "text/plain": [
       "-4.098515625000012"
      ]
     },
     "execution_count": 22,
     "metadata": {},
     "output_type": "execute_result"
    }
   ],
   "source": [
    "min_chi_tl = optimize.fmin(f, 0.3)\n",
    "min_chi_tl[0]"
   ]
  },
  {
   "cell_type": "code",
   "execution_count": null,
   "id": "b305e000",
   "metadata": {},
   "outputs": [],
   "source": []
  }
 ],
 "metadata": {
  "kernelspec": {
   "display_name": "Python 3 (ipykernel)",
   "language": "python",
   "name": "python3"
  },
  "language_info": {
   "codemirror_mode": {
    "name": "ipython",
    "version": 3
   },
   "file_extension": ".py",
   "mimetype": "text/x-python",
   "name": "python",
   "nbconvert_exporter": "python",
   "pygments_lexer": "ipython3",
   "version": "3.11.6"
  }
 },
 "nbformat": 4,
 "nbformat_minor": 5
}
