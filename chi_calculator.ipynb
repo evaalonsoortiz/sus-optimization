{
 "cells": [
  {
   "cell_type": "markdown",
   "metadata": {},
   "source": [
    "## <span style=\"color:#EC407A\"> *Chi calculator* </span> </br>\n",
    "Magnetic susceptibility of a substance is called volume suceptibility and can be understood as the sumation of the inidividual molar susceptibility. </br>\n",
    "In this nb, an initial calculation of a simple 4 compartment model of air is used to compute the volume susceptibility of air. </br>\n",
    "Molar susceptibility $\\chi _m$ = $\\kappa * M/\\rho$ </br>\n",
    "Where kappa is the volume susceptibility, M is the molar mass and rho the mass density\n"
   ]
  },
  {
   "cell_type": "markdown",
   "metadata": {},
   "source": [
    "Assuming the air is composed of 78% of N2 // 21% of O2 // 0.93% of Ar & 0.033% of Carbon Dioxide in inspired air </br>\n",
    "Expired air changes the volume percentage per compound"
   ]
  },
  {
   "cell_type": "markdown",
   "metadata": {},
   "source": [
    "*Values and theory: from CRC Handbook of chemistry and Physics (2003) and Engineering ToolBox (2001) [online] Available at: https://www.engineeringtoolbox.com*"
   ]
  },
  {
   "cell_type": "markdown",
   "metadata": {},
   "source": [
    "### Molar masses $M$"
   ]
  },
  {
   "cell_type": "code",
   "execution_count": 1,
   "metadata": {},
   "outputs": [],
   "source": [
    "mol_mass_N2 = 28.013\n",
    "mol_mass_O2 = 31.99\n",
    "mol_mass_Ar = 39.948\n",
    "mol_mass_CO2 = 44.010"
   ]
  },
  {
   "cell_type": "markdown",
   "metadata": {},
   "source": [
    "### Density $\\rho$"
   ]
  },
  {
   "cell_type": "code",
   "execution_count": 2,
   "metadata": {},
   "outputs": [],
   "source": [
    "rho_N2 = 1.7837\n",
    "rho_O2 = 1.305 # at 295K & 1 bar\n",
    "rho_Ar = 1.7837\n",
    "rho_CO2 = 1.820 # at 295K & 1 bar"
   ]
  },
  {
   "cell_type": "markdown",
   "metadata": {},
   "source": [
    "### Molar susceptibility $\\chi_m$"
   ]
  },
  {
   "cell_type": "code",
   "execution_count": 40,
   "metadata": {},
   "outputs": [],
   "source": [
    "chi_m_N2 = -12\n",
    "chi_m_O2 = 3449\n",
    "chi_m_Ar = -19.32\n",
    "chi_m_CO2 = -21\n",
    "chi_m_vapor = -13 # Assumption, chi of liquid water at 293 K is -12.96 and -12.1 at 373 in gas form"
   ]
  },
  {
   "cell_type": "markdown",
   "metadata": {},
   "source": [
    "### Volume fraction"
   ]
  },
  {
   "cell_type": "code",
   "execution_count": 37,
   "metadata": {},
   "outputs": [],
   "source": [
    "vol_N2_insp = 78.08/100 # Percentage in air in the atmosphere\n",
    "vol_N2_exp = 76/100 # After breathing\n",
    "vol_O2_insp = 20.95/100\n",
    "vol_O2_exp = 15.3/100 # After breathing\n",
    "vol_Ar = 0.93/100\n",
    "vol_CO2_insp= 0.004/100\n",
    "vol_CO2_exp = 4.2/100 # After breathing\n",
    "vol_vapor_insp = 1.2/100\n",
    "vol_vapor_exp = 6.1/100 # Inside, after breathing"
   ]
  },
  {
   "cell_type": "markdown",
   "metadata": {},
   "source": [
    "## <span style=\"color:lime\"> *Equation and Chi calculation* </span> "
   ]
  },
  {
   "cell_type": "code",
   "execution_count": 55,
   "metadata": {},
   "outputs": [],
   "source": [
    "# Pressure\n",
    "press = 1 # [Pa]\n",
    "Temp = 295 # 22 celcius in kelvin\n",
    "r = 8.31446261815324 \n",
    "press_inside = 29.4 # For 3 mmHg when expiring [Pa]\n",
    "temp_inside = 310 # Temperature of air inside 37 Celsius in kelvin\n"
   ]
  },
  {
   "cell_type": "code",
   "execution_count": 56,
   "metadata": {},
   "outputs": [
    {
     "data": {
      "text/plain": [
       "2.9063483704402366e-07"
      ]
     },
     "execution_count": 56,
     "metadata": {},
     "output_type": "execute_result"
    }
   ],
   "source": [
    "chi_air_insn_mol = (vol_N2_insp*chi_m_N2) + (vol_O2_insp*chi_m_O2) + (vol_Ar*chi_m_Ar) + (vol_CO2_insp*chi_m_CO2) + (vol_vapor_insp*chi_m_vapor)\n",
    "\n",
    "chi_air_insp_eff = 1e-6* chi_air_insn_mol * press/(r*Temp)\n",
    "chi_air_insp_eff"
   ]
  },
  {
   "cell_type": "code",
   "execution_count": 52,
   "metadata": {},
   "outputs": [
    {
     "data": {
      "text/plain": [
       "-2.898389394204815e-06"
      ]
     },
     "execution_count": 52,
     "metadata": {},
     "output_type": "execute_result"
    }
   ],
   "source": [
    "# For expiration\n",
    "chi_air_exp_mol = (vol_N2_exp*chi_m_N2) + (vol_O2_exp*chi_m_O2) + (mol_mass_Ar*chi_m_Ar) + (vol_CO2_exp*chi_m_CO2)\n",
    "\n",
    "chi_air_exp_eff = 1e-6*chi_air_exp_mol * press_inside/(r*temp_inside)\n",
    "chi_air_exp_eff"
   ]
  }
 ],
 "metadata": {
  "kernelspec": {
   "display_name": "Python 3",
   "language": "python",
   "name": "python3"
  },
  "language_info": {
   "codemirror_mode": {
    "name": "ipython",
    "version": 3
   },
   "file_extension": ".py",
   "mimetype": "text/x-python",
   "name": "python",
   "nbconvert_exporter": "python",
   "pygments_lexer": "ipython3",
   "version": "3.13.1"
  }
 },
 "nbformat": 4,
 "nbformat_minor": 2
}
